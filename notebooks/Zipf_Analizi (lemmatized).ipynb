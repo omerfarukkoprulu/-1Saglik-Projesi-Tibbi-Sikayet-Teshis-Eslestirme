{
 "cells": [
  {
   "cell_type": "code",
   "execution_count": 1,
   "id": "0ac5af1c-223f-4e37-9a7f-94b6a959ed8c",
   "metadata": {},
   "outputs": [
    {
     "name": "stderr",
     "output_type": "stream",
     "text": [
      "[nltk_data] Downloading package punkt to\n",
      "[nltk_data]     C:\\Users\\eren\\AppData\\Roaming\\nltk_data...\n",
      "[nltk_data]   Package punkt is already up-to-date!\n"
     ]
    },
    {
     "data": {
      "text/plain": [
       "True"
      ]
     },
     "execution_count": 1,
     "metadata": {},
     "output_type": "execute_result"
    }
   ],
   "source": [
    "import pandas as pd\n",
    "import re\n",
    "import numpy as np\n",
    "import matplotlib.pyplot as plt\n",
    "from collections import Counter\n",
    "import nltk\n",
    "\n",
    "nltk.download('punkt')"
   ]
  },
  {
   "cell_type": "code",
   "execution_count": 3,
   "id": "28291248-582b-4a3f-8a24-e490d216fde7",
   "metadata": {},
   "outputs": [],
   "source": [
    "df = pd.read_csv(\"lemmatized_sentences.csv\", header=None, names=[\"description\"])"
   ]
  },
  {
   "cell_type": "code",
   "execution_count": 5,
   "id": "5116f5e9-1888-47b1-8169-0f545e154106",
   "metadata": {},
   "outputs": [
    {
     "data": {
      "text/html": [
       "<div>\n",
       "<style scoped>\n",
       "    .dataframe tbody tr th:only-of-type {\n",
       "        vertical-align: middle;\n",
       "    }\n",
       "\n",
       "    .dataframe tbody tr th {\n",
       "        vertical-align: top;\n",
       "    }\n",
       "\n",
       "    .dataframe thead th {\n",
       "        text-align: right;\n",
       "    }\n",
       "</style>\n",
       "<table border=\"1\" class=\"dataframe\">\n",
       "  <thead>\n",
       "    <tr style=\"text-align: right;\">\n",
       "      <th></th>\n",
       "      <th>description</th>\n",
       "    </tr>\n",
       "  </thead>\n",
       "  <tbody>\n",
       "    <tr>\n",
       "      <th>0</th>\n",
       "      <td>major small large bowel procedure with complic...</td>\n",
       "    </tr>\n",
       "    <tr>\n",
       "      <th>1</th>\n",
       "      <td>procedure infectious parasitic disease w or pr...</td>\n",
       "    </tr>\n",
       "    <tr>\n",
       "      <th>2</th>\n",
       "      <td>procedure infectious parasitic disease w or pr...</td>\n",
       "    </tr>\n",
       "    <tr>\n",
       "      <th>3</th>\n",
       "      <td>procedure heart failure heart failure heart fa...</td>\n",
       "    </tr>\n",
       "    <tr>\n",
       "      <th>4</th>\n",
       "      <td>tracheostomy w long term mechanical ventilatio...</td>\n",
       "    </tr>\n",
       "    <tr>\n",
       "      <th>5</th>\n",
       "      <td>obstruction w mcc other pneumonia other pneumo...</td>\n",
       "    </tr>\n",
       "    <tr>\n",
       "      <th>6</th>\n",
       "      <td>procedure infectious parasitic disease w</td>\n",
       "    </tr>\n",
       "    <tr>\n",
       "      <th>7</th>\n",
       "      <td>procedure w mcc infectious parasitic disease i...</td>\n",
       "    </tr>\n",
       "    <tr>\n",
       "      <th>8</th>\n",
       "      <td>procedure digestive malignancy digestive malig...</td>\n",
       "    </tr>\n",
       "    <tr>\n",
       "      <th>9</th>\n",
       "      <td>procedure w mcc septicemia disseminated infect...</td>\n",
       "    </tr>\n",
       "    <tr>\n",
       "      <th>10</th>\n",
       "      <td>procedure for neoplasm other</td>\n",
       "    </tr>\n",
       "    <tr>\n",
       "      <th>11</th>\n",
       "      <td>procedure for neoplasm lymphoma leukemia w major</td>\n",
       "    </tr>\n",
       "    <tr>\n",
       "      <th>12</th>\n",
       "      <td>procedure w mcc other disorder of the liver ot...</td>\n",
       "    </tr>\n",
       "    <tr>\n",
       "      <th>13</th>\n",
       "      <td>heart failure shock w mcc heart failure heart ...</td>\n",
       "    </tr>\n",
       "    <tr>\n",
       "      <th>14</th>\n",
       "      <td>procedure unrelated to principal diagnosis w m...</td>\n",
       "    </tr>\n",
       "    <tr>\n",
       "      <th>15</th>\n",
       "      <td>procedure for neoplasm other</td>\n",
       "    </tr>\n",
       "    <tr>\n",
       "      <th>16</th>\n",
       "      <td>procedure for neoplasm lymphoma leukemia w other</td>\n",
       "    </tr>\n",
       "    <tr>\n",
       "      <th>17</th>\n",
       "      <td>proc w mcc septicemia disseminated infection s...</td>\n",
       "    </tr>\n",
       "    <tr>\n",
       "      <th>18</th>\n",
       "      <td>procedure w cc renal failure renal failure ren...</td>\n",
       "    </tr>\n",
       "    <tr>\n",
       "      <th>19</th>\n",
       "      <td>tracheostomy w long term mechanical ventilatio...</td>\n",
       "    </tr>\n",
       "    <tr>\n",
       "      <th>20</th>\n",
       "      <td>procedure infectious parasitic disease includi...</td>\n",
       "    </tr>\n",
       "    <tr>\n",
       "      <th>21</th>\n",
       "      <td>procedure infectious parasitic disease w</td>\n",
       "    </tr>\n",
       "    <tr>\n",
       "      <th>22</th>\n",
       "      <td>procedure w mcc malfunction reaction complic o...</td>\n",
       "    </tr>\n",
       "    <tr>\n",
       "      <th>23</th>\n",
       "      <td>device or procedure malfunction reaction compl...</td>\n",
       "    </tr>\n",
       "    <tr>\n",
       "      <th>24</th>\n",
       "      <td>device or procedure other digestive system dia...</td>\n",
       "    </tr>\n",
       "  </tbody>\n",
       "</table>\n",
       "</div>"
      ],
      "text/plain": [
       "                                          description\n",
       "0   major small large bowel procedure with complic...\n",
       "1   procedure infectious parasitic disease w or pr...\n",
       "2   procedure infectious parasitic disease w or pr...\n",
       "3   procedure heart failure heart failure heart fa...\n",
       "4   tracheostomy w long term mechanical ventilatio...\n",
       "5   obstruction w mcc other pneumonia other pneumo...\n",
       "6            procedure infectious parasitic disease w\n",
       "7   procedure w mcc infectious parasitic disease i...\n",
       "8   procedure digestive malignancy digestive malig...\n",
       "9   procedure w mcc septicemia disseminated infect...\n",
       "10                       procedure for neoplasm other\n",
       "11   procedure for neoplasm lymphoma leukemia w major\n",
       "12  procedure w mcc other disorder of the liver ot...\n",
       "13  heart failure shock w mcc heart failure heart ...\n",
       "14  procedure unrelated to principal diagnosis w m...\n",
       "15                       procedure for neoplasm other\n",
       "16   procedure for neoplasm lymphoma leukemia w other\n",
       "17  proc w mcc septicemia disseminated infection s...\n",
       "18  procedure w cc renal failure renal failure ren...\n",
       "19  tracheostomy w long term mechanical ventilatio...\n",
       "20  procedure infectious parasitic disease includi...\n",
       "21           procedure infectious parasitic disease w\n",
       "22  procedure w mcc malfunction reaction complic o...\n",
       "23  device or procedure malfunction reaction compl...\n",
       "24  device or procedure other digestive system dia..."
      ]
     },
     "execution_count": 5,
     "metadata": {},
     "output_type": "execute_result"
    }
   ],
   "source": [
    "df"
   ]
  },
  {
   "cell_type": "code",
   "execution_count": 7,
   "id": "b7e2f2e9-5697-49ae-a97a-6b1a85518299",
   "metadata": {},
   "outputs": [],
   "source": [
    "def zipf_analysis(text_column, num_words=50):\n",
    "    # Geçersiz ve boş değerleri temizle\n",
    "    cleaned_texts = text_column.dropna().astype(str)\n",
    "\n",
    "    if cleaned_texts.empty:\n",
    "        print(\"Uyarı: Metin verisi boş. Analiz yapılamaz.\")\n",
    "        return\n",
    "\n",
    "    # Metinleri birleştir ve temizle\n",
    "    text = ' '.join(cleaned_texts).lower()\n",
    "    text = re.sub(r'[^\\w\\s]', '', text)\n",
    "\n",
    "    # Tokenizasyon\n",
    "    tokens = nltk.word_tokenize(text)\n",
    "    tokens = [token for token in tokens if token.isalpha()]\n",
    "\n",
    "    if not tokens:\n",
    "        print(\"Uyarı: Temizleme sonrası analiz yapılacak kelime kalmadı.\")\n",
    "        return\n",
    "\n",
    "    # Kelime sıklığı\n",
    "    word_counts = Counter(tokens)\n",
    "    most_common_words = word_counts.most_common(num_words)\n",
    "\n",
    "    # Sıra ve sıklık verileri\n",
    "    ranks = np.arange(1, len(most_common_words) + 1)\n",
    "    frequencies = [count for word, count in most_common_words]\n",
    "\n",
    "    # Grafik\n",
    "    plt.figure(figsize=(10, 6))\n",
    "    plt.loglog(ranks, frequencies, marker='o')\n",
    "    plt.xlabel('Kelime Sırası (log)')\n",
    "    plt.ylabel('Kelime Sıklığı (log)')\n",
    "    plt.title('Zipf Yasası Analizi (lemmatized_sentences)')\n",
    "    plt.grid(True)\n",
    "    plt.show()\n",
    "\n",
    "    # Bilgi çıktısı\n",
    "    print(f\"Toplam kelime sayısı: {len(tokens)}\")\n",
    "    print(f\"Farklı kelime sayısı: {len(word_counts)}\")\n",
    "\n",
    "    if len(tokens) < 10000:\n",
    "        print(\"Veri seti küçük. Zipf analizi sınırlı genellenebilir.\")\n",
    "    else:\n",
    "        print(\"Veri seti yeterli büyüklükte.\")"
   ]
  },
  {
   "cell_type": "code",
   "execution_count": 9,
   "id": "31a97552-8d7f-4a1d-a4fc-7cc8d24be93d",
   "metadata": {},
   "outputs": [
    {
     "data": {
      "image/png": "[encoded data removed]",
      "text/plain": [
       "<Figure size 1000x600 with 1 Axes>"
      ]
     },
     "metadata": {},
     "output_type": "display_data"
    },
    {
     "name": "stdout",
     "output_type": "stream",
     "text": [
      "Toplam kelime sayısı: 1617\n",
      "Farklı kelime sayısı: 221\n",
      "Veri seti küçük. Zipf analizi sınırlı genellenebilir.\n"
     ]
    }
   ],
   "source": [
    "df = pd.read_csv(\"lemmatized_sentences.csv\", header=None, names=[\"description\"])\n",
    "zipf_analysis(df[\"description\"])"
   ]
  },
  {
   "cell_type": "code",
   "execution_count": null,
   "id": "40a46fce-e35a-4218-a573-6736b9799699",
   "metadata": {},
   "outputs": [],
   "source": []
  }
 ],
 "metadata": {
  "kernelspec": {
   "display_name": "Python [conda env:base] *",
   "language": "python",
   "name": "conda-base-py"
  },
  "language_info": {
   "codemirror_mode": {
    "name": "ipython",
    "version": 3
   },
   "file_extension": ".py",
   "mimetype": "text/x-python",
   "name": "python",
   "nbconvert_exporter": "python",
   "pygments_lexer": "ipython3",
   "version": "3.12.7"
  }
 },
 "nbformat": 4,
 "nbformat_minor": 5
}
