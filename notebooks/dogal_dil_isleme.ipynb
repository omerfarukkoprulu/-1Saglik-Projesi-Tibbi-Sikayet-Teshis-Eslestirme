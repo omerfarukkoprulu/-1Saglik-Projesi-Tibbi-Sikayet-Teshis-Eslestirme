{
 "cells": [
  {
   "cell_type": "code",
   "execution_count": 1,
   "id": "03d409e6-829b-4d55-ab99-8dc715290b67",
   "metadata": {},
   "outputs": [],
   "source": [
    "import nltk\n",
    "from nltk.tokenize import word_tokenize, sent_tokenize\n",
    "from nltk.corpus import stopwords\n",
    "from nltk.stem import WordNetLemmatizer, PorterStemmer\n",
    "import csv\n",
    "import pandas as pd\n",
    "import numpy as np\n",
    "import re"
   ]
  },
  {
   "cell_type": "code",
   "execution_count": 3,
   "id": "1ed1a7bb-3c4e-4766-9e4d-e6758cc2ad41",
   "metadata": {},
   "outputs": [
    {
     "name": "stderr",
     "output_type": "stream",
     "text": [
      "[nltk_data] Downloading package punkt to\n",
      "[nltk_data]     C:\\Users\\eren\\AppData\\Roaming\\nltk_data...\n",
      "[nltk_data]   Package punkt is already up-to-date!\n",
      "[nltk_data] Downloading package stopwords to\n",
      "[nltk_data]     C:\\Users\\eren\\AppData\\Roaming\\nltk_data...\n",
      "[nltk_data]   Package stopwords is already up-to-date!\n",
      "[nltk_data] Downloading package wordnet to\n",
      "[nltk_data]     C:\\Users\\eren\\AppData\\Roaming\\nltk_data...\n",
      "[nltk_data]   Package wordnet is already up-to-date!\n"
     ]
    },
    {
     "data": {
      "text/plain": [
       "True"
      ]
     },
     "execution_count": 3,
     "metadata": {},
     "output_type": "execute_result"
    }
   ],
   "source": [
    " nltk.download('punkt')\n",
    " nltk.download('stopwords')\n",
    " nltk.download('wordnet')"
   ]
  },
  {
   "cell_type": "code",
   "execution_count": 5,
   "id": "5b3b69cf-5c23-4aff-b8ee-2b744a5ad7f9",
   "metadata": {},
   "outputs": [],
   "source": [
    "yeni= pd.read_csv(\"cleaned_descriptions.csv\")"
   ]
  },
  {
   "cell_type": "code",
   "execution_count": 7,
   "id": "1f2c4bb4-dd97-4920-8d03-9c621238b445",
   "metadata": {},
   "outputs": [
    {
     "data": {
      "text/html": [
       "<div>\n",
       "<style scoped>\n",
       "    .dataframe tbody tr th:only-of-type {\n",
       "        vertical-align: middle;\n",
       "    }\n",
       "\n",
       "    .dataframe tbody tr th {\n",
       "        vertical-align: top;\n",
       "    }\n",
       "\n",
       "    .dataframe thead th {\n",
       "        text-align: right;\n",
       "    }\n",
       "</style>\n",
       "<table border=\"1\" class=\"dataframe\">\n",
       "  <thead>\n",
       "    <tr style=\"text-align: right;\">\n",
       "      <th></th>\n",
       "      <th>description</th>\n",
       "    </tr>\n",
       "  </thead>\n",
       "  <tbody>\n",
       "    <tr>\n",
       "      <th>0</th>\n",
       "      <td>MAJOR SMALL &amp; LARGE BOWEL PROCEDURES WITH COMP...</td>\n",
       "    </tr>\n",
       "    <tr>\n",
       "      <th>1</th>\n",
       "      <td>PERCUTANEOUS CARDIOVASCULAR PROCEDURES WITHOUT...</td>\n",
       "    </tr>\n",
       "    <tr>\n",
       "      <th>2</th>\n",
       "      <td>DENTAL &amp; ORAL DIS EXCEPT EXTRACTIONS &amp; RESTORA...</td>\n",
       "    </tr>\n",
       "    <tr>\n",
       "      <th>3</th>\n",
       "      <td>CRANIOTOMY AGE &gt; EXCEPT FOR TRAUMA</td>\n",
       "    </tr>\n",
       "    <tr>\n",
       "      <th>4</th>\n",
       "      <td>DISORDERS OF LIVER EXCEPT MALIGNANCY, CIRRHOSI...</td>\n",
       "    </tr>\n",
       "  </tbody>\n",
       "</table>\n",
       "</div>"
      ],
      "text/plain": [
       "                                         description\n",
       "0  MAJOR SMALL & LARGE BOWEL PROCEDURES WITH COMP...\n",
       "1  PERCUTANEOUS CARDIOVASCULAR PROCEDURES WITHOUT...\n",
       "2  DENTAL & ORAL DIS EXCEPT EXTRACTIONS & RESTORA...\n",
       "3                 CRANIOTOMY AGE > EXCEPT FOR TRAUMA\n",
       "4  DISORDERS OF LIVER EXCEPT MALIGNANCY, CIRRHOSI..."
      ]
     },
     "execution_count": 7,
     "metadata": {},
     "output_type": "execute_result"
    }
   ],
   "source": [
    "yeni.head()"
   ]
  },
  {
   "cell_type": "code",
   "execution_count": 9,
   "id": "cbc2fc50-af14-4fb7-82be-ac1074109abf",
   "metadata": {},
   "outputs": [
    {
     "name": "stdout",
     "output_type": "stream",
     "text": [
      "Veri Seti Bilgisi:\n",
      "<class 'pandas.core.frame.DataFrame'>\n",
      "RangeIndex: 297 entries, 0 to 296\n",
      "Data columns (total 1 columns):\n",
      " #   Column       Non-Null Count  Dtype \n",
      "---  ------       --------------  ----- \n",
      " 0   description  297 non-null    object\n",
      "dtypes: object(1)\n",
      "memory usage: 2.4+ KB\n",
      "None\n",
      "\n",
      "İlk 5 Satır:\n",
      "| description                                                                                                       |\n",
      "|:------------------------------------------------------------------------------------------------------------------|\n",
      "| MAJOR SMALL & LARGE BOWEL PROCEDURES WITH COMPLICATIONS, COMORBIDITIES                                            |\n",
      "| PERCUTANEOUS CARDIOVASCULAR PROCEDURES WITHOUT ACUTE MYOCARDIAL INFARCTION, WITHOUT CORONARY ARTERY STENT IMPLANT |\n",
      "| DENTAL & ORAL DIS EXCEPT EXTRACTIONS & RESTORATIONS AGE >                                                         |\n",
      "| CRANIOTOMY AGE > EXCEPT FOR TRAUMA                                                                                |\n",
      "| DISORDERS OF LIVER EXCEPT MALIGNANCY, CIRRHOSIS, ALCOHOLIC HEPATITIS WITH COMPLICATIONS, COMORBIDITIES            |\n",
      "\n",
      "Eksik Veri Sayısı:\n",
      "description    0\n",
      "dtype: int64\n"
     ]
    }
   ],
   "source": [
    "# Birleştirilmiş veri setini yükle\n",
    "df = pd.read_csv(\"cleaned_descriptions.csv\")\n",
    "\n",
    "# Veri setini incele\n",
    "print(\"Veri Seti Bilgisi:\")\n",
    "print(df.info())\n",
    "\n",
    "print(\"\\nİlk 5 Satır:\")\n",
    "print(df.head().to_markdown(index=False, numalign=\"left\", stralign=\"left\"))\n",
    "\n",
    "print(\"\\nEksik Veri Sayısı:\")\n",
    "print(df.isnull().sum())"
   ]
  },
  {
   "cell_type": "code",
   "execution_count": 11,
   "id": "38806421-29e5-4df9-a31f-f470546b414c",
   "metadata": {},
   "outputs": [],
   "source": [
    "def stem_text(text):\n",
    "  # Küçük harfe çevirme\n",
    "  text = text.lower()\n",
    "  # Noktalama işaretlerini kaldırma\n",
    "  text = re.sub(r'[^\\w\\s]', '', text)"
   ]
  },
  {
   "cell_type": "code",
   "execution_count": 15,
   "id": "00d53b4a-5445-430c-ba1a-2e2f43508b95",
   "metadata": {},
   "outputs": [
    {
     "name": "stdout",
     "output_type": "stream",
     "text": [
      "['MAJOR SMALL & LARGE BOWEL PROCEDURES WITH COMPLICATIONS, COMORBIDITIES PERCUTANEOUS CARDIOVASCULAR PROCEDURES WITHOUT ACUTE MYOCARDIAL INFARCTION, WITHOUT CORONARY ARTERY STENT IMPLANT DENTAL & ORAL DIS EXCEPT EXTRACTIONS & RESTORATIONS AGE > CRANIOTOMY AGE > EXCEPT FOR TRAUMA DISORDERS OF LIVER EXCEPT MALIGNANCY, CIRRHOSIS, ALCOHOLIC HEPATITIS WITH COMPLICATIONS, COMORBIDITIES SEIZURE & HEADACHE AGE > WITH COMPLICATIONS, COMORBIDITIES CARDIAC ARRHYTHMIA & CONDUCTION DISORDERS WITH COMPLICATIONS, COMORBIDITIES EXTRACRANIAL VASCULAR PROCEDURES PERMANENT CARDIAC PACEMAKER IMPLANT WITH ACUTE MYOCARDIAL INFARCTION, HEART FAILURE OR SHOCK, OR AICD LEAD OR GENERATOR PROC SEPTICEMIA AGE > SIMPLE PNEUMONIA & PLEURISY AGE > WITH COMPLICATIONS, COMORBIDITIES CORONARY BYPASS WITHOUT CARDIAC CATHETER LOWER EXTREMITY & HUMERUS PROCEDURES EXCEPT HIP, FOOT, FEMUR AGE> COMPLICATIONS, COMORBIDITIES CIRCULATORY DISORDERS WITH ACUTE MYOCARDIAL INFARCTION & MAJOR COMPLICATION, DISCHARGED ALIVE NERVOUS SYSTEM NEOPLASMS WITH COMPLICATIONS, COMORBIDITIES NERVOUS SYSTEM INFECTION EXCEPT VIRAL MENINGITIS KIDNEY & URINARY TRACT INFECTIONS AGE > WITH COMPLICATIONS, COMORBIDITIES SEPTICEMIA AGE > RESPIRATORY INFECTIONS & INFLAMMATIONS AGE > WITH COMPLICATIONS, COMORBIDITIES EXTENSIVE OPERATING ROOM PROCEDURE UNRELATED TO PRINCIPAL DIAGNOSIS SEPTICEMIA AGE > RESPIRATORY SYSTEM DIAGNOSIS WITH VENTILATOR SUPPORT PERCUTANEOUS CARDIOVASCULAR PROCEDURE WITH DRUG-ELUDING STENT WITHOUT ACUTE MYOCARDIAL INFARCTION CIRCULATORY DISORDERS WITH ACUTE MYOCARDIAL INFARCTION & MAJOR COMPLICATION, DISCHARGED ALIVE SEPTICEMIA AGE > SEPTICEMIA AGE > Liver Transplant ECMO OR TRACHEOSTOMY WITH MECHANICAL VENTILATION + HOURS OR PRINCIPAL DIAGNOSES EXCEPT FACE, MOUTH AND NECK DIAGNOSES WITH MAJOR OPERATING ROOM PROCEDURE SEPTICEMIA AGE > LYMPHOMA & NON-ACUTE LEUKEMIA WITH COMPLICATIONS, COMORBIDITIES RESPIRATORY SYSTEM DIAGNOSIS WITH VENTILATOR SUPPORT SEPTICEMIA AGE > Craniotomy for Trauma CRANIOTOMY AGE > WITH COMPLICATIONS, COMORBIDITIES Peptic Ulcer & Gastritis GASTROINTESTINAL HEMORRHAGE WITH COMPLICATIONS, COMORBIDITIES CHOLECYSTECTOMY WITH COMMON DUCT EXPLORATION WITH COMPLICATIONS, COMORBIDITIES OTHER OPERATING ROOM PROCEDURES FOR MULTIPLE SIGNIFICANT TRAUMA INTRACRANIAL HEMORRHAGE OR CEREBRAL INFARCTION Extensive Procedure Unrelated To Principal Diagnosis EXTENSIVE OPERATING ROOM PROCEDURE UNRELATED TO PRINCIPAL DIAGNOSIS Septicemia & Disseminated Infections SEPTICEMIA AGE > Other Endocrine Disorders ENDOCRINE DISORDERS WITH COMPLICATIONS, COMORBIDITIES Shoulder, Upper Arm & Forearm Procedures MAJOR JOINT & LIMB REATTACHMENT PROCEDURES OF UPPER EXTREMITY Cardiac Valve Procedures w/o Cardiac Catheterization CARDIAC VALVE & OTHER MAJOR CARDIOTHORACIC PROC WITHOUT CARDIAC CATHETER ECMO OR TRACHEOSTOMY WITH MECHANICAL VENTILATION + HOURS OR PRINCIPAL DIAGNOSES EXCEPT FACE, MOUTH AND NECK DIAGNOSES WITH MAJOR OPERATING ROOM PROCEDURE Musculoskeletal & Other Procedures For Multiple Significant Trauma Other Endocrine Disorders ENDOCRINE DISORDERS WITH COMPLICATIONS, COMORBIDITIES Connective Tissue Disorders CONNECTIVE TISSUE DISORDERS WITH COMPLICATIONS, COMORBIDITIES Infectious & Parasitic Diseases Including HIV W O.R.', 'Procedure INFECTIOUS & PARASITIC DISEASES W OR PROCEDURE CIRRHOSIS & ALCOHOLIC HEPATITIS Other Disorders Of The Liver Other Disorders Of The Liver CIRRHOSIS & ALCOHOLIC HEPATITIS Major Stomach, Esophageal & Duodenal Procedures STOMACH, ESOPHAGEAL & DUODENAL PROC AGE > W CC W/O MAJOR GI DX Infectious & Parasitic Diseases Including HIV W O.R.', 'Procedure INFECTIOUS & PARASITIC DISEASES W OR PROCEDURE Malfunction, Reaction & Comp of Orthopedic Device or Procedure AFTERCARE, MUSCULOSKELETAL SYSTEM & CONNECTIVE TISSUE Hip & Femur Procedures for Trauma Except Joint Replacement HIP & FEMUR PROCEDURES EXCEPT MAJOR JOINT AGE > WITH COMPLICATIONS, COMORBIDITIES Respiratory Malignancy RESPIRATORY NEOPLASMS CIRCULATORY DISORDERS WITH ACUTE MYOCARDIAL INFARCTION, EXPIRED Acute Myocardial Infarction POISONING & TOXIC EFFECTS OF DRUGS AGE > WITH COMPLICATIONS, COMORBIDITIES Poisoning Of Medicinal Agents Intracranial Hemorrhage INTRACRANIAL HEMORRHAGE OR CEREBRAL INFARCTION Respiratory System Diagnosis w/ Ventilator Support + Hours RESPIRATORY SYSTEM DIAGNOSIS WITH VENTILATOR SUPPORT + HRS OTHER MULTIPLE SIGNIFICANT TRAUMA Multiple Significant Trauma W/O O.R.', 'Procedure Heart Failure Heart Failure HEART FAILURE & SHOCK W/O CC/MCC ECMO OR TRACH W MV + HRS OR PDX EXC FACE, MOUTH & NECK W MAJ O.R.', 'Tracheostomy W Long Term Mechanical Ventilation W Extensive Procedure Tracheostomy W Long Term Mechanical Ventilation W Extensive Procedure Other Pneumonia Other Pneumonia RESPIRATORY SYSTEM DIAGNOSIS W VENTILATOR SUPPORT < HOURS Pulmonary Embolism Pulmonary Embolism PULMONARY EMBOLISM W MCC CVA & Precerebral Occulusion w/ Infarct CVA & Precerebral Occulusion w/ Infarct INTRACRANIAL HEMORRHAGE OR CEREBRAL INFARCTION W MCC Septicemia & Disseminated Infections SEPTICEMIA OR SEVERE SEPSIS W MV + HOURS Septicemia & Disseminated Infections Other Endocrine Disorders Other Endocrine Disorders ENDOCRINE DISORDERS W MCC Intestinal Obstruction Intestinal Obstruction G.I.', 'OBSTRUCTION W MCC Other Pneumonia Other Pneumonia RESPIRATORY SYSTEM DIAGNOSIS W VENTILATOR SUPPORT < HOURS Kidney & Urinary Tract Infections Kidney & Urinary Tract Infections KIDNEY & URINARY TRACT INFECTIONS W MCC Heart Failure Heart Failure HEART FAILURE & SHOCK W MCC Kidney & Urinary Tract Infections Kidney & Urinary Tract Infections KIDNEY & URINARY TRACT INFECTIONS W MCC Major Esophageal Disorders Major Esophageal Disorders MAJOR ESOPHAGEAL DISORDERS W MCC Infectious & Parasitic Diseases Including HIV W O.R.', 'Procedure INFECTIOUS & PARASITIC DISEASES W O.R.', 'PROCEDURE W MCC Infectious & Parasitic Diseases Including HIV W O.R.', 'Procedure Digestive Malignancy Digestive Malignancy OTHER DIGESTIVE SYSTEM O.R.', 'PROCEDURES W MCC Septicemia & Disseminated Infections Septicemia & Disseminated Infections SEPTICEMIA OR SEVERE SEPSIS W/O MV + HOURS W MCC Respiratory System Diagnosis w/ Ventilator Support + Hours Respiratory System Diagnosis w/ Ventilator Support + Hours RESPIRATORY SYSTEM DIAGNOSIS W VENTILATOR SUPPORT + HOURS TRAUMATIC STUPOR & COMA, COMA < HR W MCC Head Trauma w/ Coma >  Hr or Hemorrhage Head Trauma w/ Coma >  Hr or Hemorrhage Other O.R.']\n"
     ]
    }
   ],
   "source": [
    "# Varsayalım ki DataFrame'iniz df ve yorumlar '0' sütununda\n",
    "text = ' '.join(df['description'].astype(str).tolist())  # Tüm yorumları tek bir metin haline getir\n",
    "sentences = sent_tokenize(text)  # Metni cümlelere ayır\n",
    "print(sentences[:10])  # İlk 10 cümleyi yazdır"
   ]
  },
  {
   "cell_type": "code",
   "execution_count": 17,
   "id": "adddba1a-06bc-488a-9c85-04004bb50bca",
   "metadata": {},
   "outputs": [],
   "source": [
    "# Lemmatizer ve Stemmer'ı başlat\n",
    "lemmatizer = WordNetLemmatizer()\n",
    "stemmer = PorterStemmer()"
   ]
  },
  {
   "cell_type": "code",
   "execution_count": 19,
   "id": "b97c04c1-dde3-4e81-bb6a-1fa52d4a0679",
   "metadata": {},
   "outputs": [],
   "source": [
    "# Kelimeleri tokenleştirip, lemmatize etme ve stemleme\n",
    "def preprocess_sentence(sentence):\n",
    " tokens = word_tokenize(sentence) # Cümleyi kelimelere ayır\n",
    "# Sadece harf olan kelimeleri al ve stopword'leri çıkar\n",
    " filtered_tokens = [token.lower() for token in tokens if token.isalpha() and token.lower() not in stop_words]\n",
    " lemmatized_tokens = [lemmatizer.lemmatize(token) for token in filtered_tokens] # Lemmatize etme\n",
    " stemmed_tokens = [stemmer.stem(token) for token in filtered_tokens] # Stemleme\n",
    " return lemmatized_tokens, stemmed_tokens"
   ]
  },
  {
   "cell_type": "code",
   "execution_count": 21,
   "id": "da89fc94-a5c3-40d1-afdc-08e439116ed4",
   "metadata": {},
   "outputs": [],
   "source": [
    "# Her cümleyi tokenleştir, lemmatize et ve stemle\n",
    "tokenized_corpus_lemmatized = []\n",
    "tokenized_corpus_stemmed = []"
   ]
  },
  {
   "cell_type": "code",
   "execution_count": 27,
   "id": "5bf4dac1-47a3-414b-83b3-17eb0c6464c5",
   "metadata": {},
   "outputs": [
    {
     "name": "stderr",
     "output_type": "stream",
     "text": [
      "[nltk_data] Downloading package punkt to\n",
      "[nltk_data]     C:\\Users\\eren\\AppData\\Roaming\\nltk_data...\n",
      "[nltk_data]   Package punkt is already up-to-date!\n",
      "[nltk_data] Downloading package stopwords to\n",
      "[nltk_data]     C:\\Users\\eren\\AppData\\Roaming\\nltk_data...\n",
      "[nltk_data]   Package stopwords is already up-to-date!\n",
      "[nltk_data] Downloading package wordnet to\n",
      "[nltk_data]     C:\\Users\\eren\\AppData\\Roaming\\nltk_data...\n",
      "[nltk_data]   Package wordnet is already up-to-date!\n"
     ]
    }
   ],
   "source": [
    "import nltk\n",
    "from nltk.tokenize import word_tokenize\n",
    "from nltk.corpus import stopwords\n",
    "from nltk.stem import WordNetLemmatizer, PorterStemmer\n",
    "\n",
    "# Gerekli NLTK verilerini indir (bir kez çalıştırman yeterli)\n",
    "nltk.download('punkt')\n",
    "nltk.download('stopwords')\n",
    "nltk.download('wordnet')\n",
    "\n",
    "# Lemmatizer, stemmer ve stopwords'u başlat\n",
    "lemmatizer = WordNetLemmatizer()\n",
    "stemmer = PorterStemmer()\n",
    "stop_words = set(stopwords.words('turkish'))  # Türkçe stopwords listesi\n",
    "\n",
    "# preprocess_sentence fonksiyonu\n",
    "def preprocess_sentence(sentence):\n",
    "    tokens = word_tokenize(sentence)  # Cümleyi kelimelere ayır\n",
    "    # Sadece harflerden oluşan kelimeleri al ve stopwords'leri çıkar\n",
    "    filtered_tokens = [token.lower() for token in tokens if token.isalpha() and token.lower() not in stop_words]\n",
    "    lemmatized_tokens = [lemmatizer.lemmatize(token) for token in filtered_tokens]  # Lemmatize etme\n",
    "    stemmed_tokens = [stemmer.stem(token) for token in filtered_tokens]  # Stemleme\n",
    "    return lemmatized_tokens, stemmed_tokens"
   ]
  },
  {
   "cell_type": "code",
   "execution_count": 29,
   "id": "4aef74c3-cae1-4e59-bb23-105cefa4649c",
   "metadata": {},
   "outputs": [],
   "source": [
    "for sentence in sentences:\n",
    " lemmatized_tokens, stemmed_tokens = preprocess_sentence(sentence)\n",
    " tokenized_corpus_lemmatized.append(lemmatized_tokens)\n",
    " tokenized_corpus_stemmed.append(stemmed_tokens)"
   ]
  },
  {
   "cell_type": "code",
   "execution_count": 31,
   "id": "d81b18ce-47e0-40b2-9a48-d010069ded55",
   "metadata": {},
   "outputs": [],
   "source": [
    "# lemmatize edılmıs cumlelerı bır csv dosyasına kaydedın.\n",
    "with open(\"lemmatized_sentences.csv\", mode=\"w\", newline=\"\", encoding=\"utf-8\") as file:\n",
    " writer = csv.writer(file)\n",
    "# Her cümleyi bir satır olarak yaz\n",
    " for tokens in tokenized_corpus_lemmatized:\n",
    "  writer.writerow([' '.join(tokens)])"
   ]
  },
  {
   "cell_type": "code",
   "execution_count": 33,
   "id": "a9d1bdae-f98c-4d06-b5fd-95d57987e823",
   "metadata": {},
   "outputs": [],
   "source": [
    "# Stem edılmıs cumlelerı bır csv dosyasına kaydedın.\n",
    "\n",
    "\n",
    "with open(\"stemmed_sentences.csv\", mode=\"w\", newline=\"\", encoding=\"utf-8\") as file:\n",
    "    writer = csv.writer(file)\n",
    "    # Her cümleyi bir satır olarak yaz\n",
    "    for tokens in tokenized_corpus_stemmed:\n",
    "        writer.writerow([' '.join(tokens)])"
   ]
  },
  {
   "cell_type": "code",
   "execution_count": 35,
   "id": "eda03550-d0e7-4a5f-be46-f2ef6b4b8159",
   "metadata": {},
   "outputs": [
    {
     "name": "stdout",
     "output_type": "stream",
     "text": [
      "Cümle 1 - Base: MAJOR SMALL & LARGE BOWEL PROCEDURES WITH COMPLICATIONS, COMORBIDITIES PERCUTANEOUS CARDIOVASCULAR PROCEDURES WITHOUT ACUTE MYOCARDIAL INFARCTION, WITHOUT CORONARY ARTERY STENT IMPLANT DENTAL & ORAL DIS EXCEPT EXTRACTIONS & RESTORATIONS AGE > CRANIOTOMY AGE > EXCEPT FOR TRAUMA DISORDERS OF LIVER EXCEPT MALIGNANCY, CIRRHOSIS, ALCOHOLIC HEPATITIS WITH COMPLICATIONS, COMORBIDITIES SEIZURE & HEADACHE AGE > WITH COMPLICATIONS, COMORBIDITIES CARDIAC ARRHYTHMIA & CONDUCTION DISORDERS WITH COMPLICATIONS, COMORBIDITIES EXTRACRANIAL VASCULAR PROCEDURES PERMANENT CARDIAC PACEMAKER IMPLANT WITH ACUTE MYOCARDIAL INFARCTION, HEART FAILURE OR SHOCK, OR AICD LEAD OR GENERATOR PROC SEPTICEMIA AGE > SIMPLE PNEUMONIA & PLEURISY AGE > WITH COMPLICATIONS, COMORBIDITIES CORONARY BYPASS WITHOUT CARDIAC CATHETER LOWER EXTREMITY & HUMERUS PROCEDURES EXCEPT HIP, FOOT, FEMUR AGE> COMPLICATIONS, COMORBIDITIES CIRCULATORY DISORDERS WITH ACUTE MYOCARDIAL INFARCTION & MAJOR COMPLICATION, DISCHARGED ALIVE NERVOUS SYSTEM NEOPLASMS WITH COMPLICATIONS, COMORBIDITIES NERVOUS SYSTEM INFECTION EXCEPT VIRAL MENINGITIS KIDNEY & URINARY TRACT INFECTIONS AGE > WITH COMPLICATIONS, COMORBIDITIES SEPTICEMIA AGE > RESPIRATORY INFECTIONS & INFLAMMATIONS AGE > WITH COMPLICATIONS, COMORBIDITIES EXTENSIVE OPERATING ROOM PROCEDURE UNRELATED TO PRINCIPAL DIAGNOSIS SEPTICEMIA AGE > RESPIRATORY SYSTEM DIAGNOSIS WITH VENTILATOR SUPPORT PERCUTANEOUS CARDIOVASCULAR PROCEDURE WITH DRUG-ELUDING STENT WITHOUT ACUTE MYOCARDIAL INFARCTION CIRCULATORY DISORDERS WITH ACUTE MYOCARDIAL INFARCTION & MAJOR COMPLICATION, DISCHARGED ALIVE SEPTICEMIA AGE > SEPTICEMIA AGE > Liver Transplant ECMO OR TRACHEOSTOMY WITH MECHANICAL VENTILATION + HOURS OR PRINCIPAL DIAGNOSES EXCEPT FACE, MOUTH AND NECK DIAGNOSES WITH MAJOR OPERATING ROOM PROCEDURE SEPTICEMIA AGE > LYMPHOMA & NON-ACUTE LEUKEMIA WITH COMPLICATIONS, COMORBIDITIES RESPIRATORY SYSTEM DIAGNOSIS WITH VENTILATOR SUPPORT SEPTICEMIA AGE > Craniotomy for Trauma CRANIOTOMY AGE > WITH COMPLICATIONS, COMORBIDITIES Peptic Ulcer & Gastritis GASTROINTESTINAL HEMORRHAGE WITH COMPLICATIONS, COMORBIDITIES CHOLECYSTECTOMY WITH COMMON DUCT EXPLORATION WITH COMPLICATIONS, COMORBIDITIES OTHER OPERATING ROOM PROCEDURES FOR MULTIPLE SIGNIFICANT TRAUMA INTRACRANIAL HEMORRHAGE OR CEREBRAL INFARCTION Extensive Procedure Unrelated To Principal Diagnosis EXTENSIVE OPERATING ROOM PROCEDURE UNRELATED TO PRINCIPAL DIAGNOSIS Septicemia & Disseminated Infections SEPTICEMIA AGE > Other Endocrine Disorders ENDOCRINE DISORDERS WITH COMPLICATIONS, COMORBIDITIES Shoulder, Upper Arm & Forearm Procedures MAJOR JOINT & LIMB REATTACHMENT PROCEDURES OF UPPER EXTREMITY Cardiac Valve Procedures w/o Cardiac Catheterization CARDIAC VALVE & OTHER MAJOR CARDIOTHORACIC PROC WITHOUT CARDIAC CATHETER ECMO OR TRACHEOSTOMY WITH MECHANICAL VENTILATION + HOURS OR PRINCIPAL DIAGNOSES EXCEPT FACE, MOUTH AND NECK DIAGNOSES WITH MAJOR OPERATING ROOM PROCEDURE Musculoskeletal & Other Procedures For Multiple Significant Trauma Other Endocrine Disorders ENDOCRINE DISORDERS WITH COMPLICATIONS, COMORBIDITIES Connective Tissue Disorders CONNECTIVE TISSUE DISORDERS WITH COMPLICATIONS, COMORBIDITIES Infectious & Parasitic Diseases Including HIV W O.R.\n",
      "Cümle 1 - Lemmatized: ['major', 'small', 'large', 'bowel', 'procedure', 'with', 'complication', 'comorbidities', 'percutaneous', 'cardiovascular', 'procedure', 'without', 'acute', 'myocardial', 'infarction', 'without', 'coronary', 'artery', 'stent', 'implant', 'dental', 'oral', 'dis', 'except', 'extraction', 'restoration', 'age', 'craniotomy', 'age', 'except', 'for', 'trauma', 'disorder', 'of', 'liver', 'except', 'malignancy', 'cirrhosis', 'alcoholic', 'hepatitis', 'with', 'complication', 'comorbidities', 'seizure', 'headache', 'age', 'with', 'complication', 'comorbidities', 'cardiac', 'arrhythmia', 'conduction', 'disorder', 'with', 'complication', 'comorbidities', 'extracranial', 'vascular', 'procedure', 'permanent', 'cardiac', 'pacemaker', 'implant', 'with', 'acute', 'myocardial', 'infarction', 'heart', 'failure', 'or', 'shock', 'or', 'aicd', 'lead', 'or', 'generator', 'proc', 'septicemia', 'age', 'simple', 'pneumonia', 'pleurisy', 'age', 'with', 'complication', 'comorbidities', 'coronary', 'bypass', 'without', 'cardiac', 'catheter', 'lower', 'extremity', 'humerus', 'procedure', 'except', 'hip', 'foot', 'femur', 'age', 'complication', 'comorbidities', 'circulatory', 'disorder', 'with', 'acute', 'myocardial', 'infarction', 'major', 'complication', 'discharged', 'alive', 'nervous', 'system', 'neoplasm', 'with', 'complication', 'comorbidities', 'nervous', 'system', 'infection', 'except', 'viral', 'meningitis', 'kidney', 'urinary', 'tract', 'infection', 'age', 'with', 'complication', 'comorbidities', 'septicemia', 'age', 'respiratory', 'infection', 'inflammation', 'age', 'with', 'complication', 'comorbidities', 'extensive', 'operating', 'room', 'procedure', 'unrelated', 'to', 'principal', 'diagnosis', 'septicemia', 'age', 'respiratory', 'system', 'diagnosis', 'with', 'ventilator', 'support', 'percutaneous', 'cardiovascular', 'procedure', 'with', 'stent', 'without', 'acute', 'myocardial', 'infarction', 'circulatory', 'disorder', 'with', 'acute', 'myocardial', 'infarction', 'major', 'complication', 'discharged', 'alive', 'septicemia', 'age', 'septicemia', 'age', 'liver', 'transplant', 'ecmo', 'or', 'tracheostomy', 'with', 'mechanical', 'ventilation', 'hour', 'or', 'principal', 'diagnosis', 'except', 'face', 'mouth', 'and', 'neck', 'diagnosis', 'with', 'major', 'operating', 'room', 'procedure', 'septicemia', 'age', 'lymphoma', 'leukemia', 'with', 'complication', 'comorbidities', 'respiratory', 'system', 'diagnosis', 'with', 'ventilator', 'support', 'septicemia', 'age', 'craniotomy', 'for', 'trauma', 'craniotomy', 'age', 'with', 'complication', 'comorbidities', 'peptic', 'ulcer', 'gastritis', 'gastrointestinal', 'hemorrhage', 'with', 'complication', 'comorbidities', 'cholecystectomy', 'with', 'common', 'duct', 'exploration', 'with', 'complication', 'comorbidities', 'other', 'operating', 'room', 'procedure', 'for', 'multiple', 'significant', 'trauma', 'intracranial', 'hemorrhage', 'or', 'cerebral', 'infarction', 'extensive', 'procedure', 'unrelated', 'to', 'principal', 'diagnosis', 'extensive', 'operating', 'room', 'procedure', 'unrelated', 'to', 'principal', 'diagnosis', 'septicemia', 'disseminated', 'infection', 'septicemia', 'age', 'other', 'endocrine', 'disorder', 'endocrine', 'disorder', 'with', 'complication', 'comorbidities', 'shoulder', 'upper', 'arm', 'forearm', 'procedure', 'major', 'joint', 'limb', 'reattachment', 'procedure', 'of', 'upper', 'extremity', 'cardiac', 'valve', 'procedure', 'cardiac', 'catheterization', 'cardiac', 'valve', 'other', 'major', 'cardiothoracic', 'proc', 'without', 'cardiac', 'catheter', 'ecmo', 'or', 'tracheostomy', 'with', 'mechanical', 'ventilation', 'hour', 'or', 'principal', 'diagnosis', 'except', 'face', 'mouth', 'and', 'neck', 'diagnosis', 'with', 'major', 'operating', 'room', 'procedure', 'musculoskeletal', 'other', 'procedure', 'for', 'multiple', 'significant', 'trauma', 'other', 'endocrine', 'disorder', 'endocrine', 'disorder', 'with', 'complication', 'comorbidities', 'connective', 'tissue', 'disorder', 'connective', 'tissue', 'disorder', 'with', 'complication', 'comorbidities', 'infectious', 'parasitic', 'disease', 'including', 'hiv', 'w']\n",
      "Cümle 1 - Stemmed: ['major', 'small', 'larg', 'bowel', 'procedur', 'with', 'complic', 'comorbid', 'percutan', 'cardiovascular', 'procedur', 'without', 'acut', 'myocardi', 'infarct', 'without', 'coronari', 'arteri', 'stent', 'implant', 'dental', 'oral', 'di', 'except', 'extract', 'restor', 'age', 'craniotomi', 'age', 'except', 'for', 'trauma', 'disord', 'of', 'liver', 'except', 'malign', 'cirrhosi', 'alcohol', 'hepat', 'with', 'complic', 'comorbid', 'seizur', 'headach', 'age', 'with', 'complic', 'comorbid', 'cardiac', 'arrhythmia', 'conduct', 'disord', 'with', 'complic', 'comorbid', 'extracrani', 'vascular', 'procedur', 'perman', 'cardiac', 'pacemak', 'implant', 'with', 'acut', 'myocardi', 'infarct', 'heart', 'failur', 'or', 'shock', 'or', 'aicd', 'lead', 'or', 'gener', 'proc', 'septicemia', 'age', 'simpl', 'pneumonia', 'pleurisi', 'age', 'with', 'complic', 'comorbid', 'coronari', 'bypass', 'without', 'cardiac', 'cathet', 'lower', 'extrem', 'humeru', 'procedur', 'except', 'hip', 'foot', 'femur', 'age', 'complic', 'comorbid', 'circulatori', 'disord', 'with', 'acut', 'myocardi', 'infarct', 'major', 'complic', 'discharg', 'aliv', 'nervou', 'system', 'neoplasm', 'with', 'complic', 'comorbid', 'nervou', 'system', 'infect', 'except', 'viral', 'mening', 'kidney', 'urinari', 'tract', 'infect', 'age', 'with', 'complic', 'comorbid', 'septicemia', 'age', 'respiratori', 'infect', 'inflamm', 'age', 'with', 'complic', 'comorbid', 'extens', 'oper', 'room', 'procedur', 'unrel', 'to', 'princip', 'diagnosi', 'septicemia', 'age', 'respiratori', 'system', 'diagnosi', 'with', 'ventil', 'support', 'percutan', 'cardiovascular', 'procedur', 'with', 'stent', 'without', 'acut', 'myocardi', 'infarct', 'circulatori', 'disord', 'with', 'acut', 'myocardi', 'infarct', 'major', 'complic', 'discharg', 'aliv', 'septicemia', 'age', 'septicemia', 'age', 'liver', 'transplant', 'ecmo', 'or', 'tracheostomi', 'with', 'mechan', 'ventil', 'hour', 'or', 'princip', 'diagnos', 'except', 'face', 'mouth', 'and', 'neck', 'diagnos', 'with', 'major', 'oper', 'room', 'procedur', 'septicemia', 'age', 'lymphoma', 'leukemia', 'with', 'complic', 'comorbid', 'respiratori', 'system', 'diagnosi', 'with', 'ventil', 'support', 'septicemia', 'age', 'craniotomi', 'for', 'trauma', 'craniotomi', 'age', 'with', 'complic', 'comorbid', 'peptic', 'ulcer', 'gastriti', 'gastrointestin', 'hemorrhag', 'with', 'complic', 'comorbid', 'cholecystectomi', 'with', 'common', 'duct', 'explor', 'with', 'complic', 'comorbid', 'other', 'oper', 'room', 'procedur', 'for', 'multipl', 'signific', 'trauma', 'intracrani', 'hemorrhag', 'or', 'cerebr', 'infarct', 'extens', 'procedur', 'unrel', 'to', 'princip', 'diagnosi', 'extens', 'oper', 'room', 'procedur', 'unrel', 'to', 'princip', 'diagnosi', 'septicemia', 'dissemin', 'infect', 'septicemia', 'age', 'other', 'endocrin', 'disord', 'endocrin', 'disord', 'with', 'complic', 'comorbid', 'shoulder', 'upper', 'arm', 'forearm', 'procedur', 'major', 'joint', 'limb', 'reattach', 'procedur', 'of', 'upper', 'extrem', 'cardiac', 'valv', 'procedur', 'cardiac', 'catheter', 'cardiac', 'valv', 'other', 'major', 'cardiothorac', 'proc', 'without', 'cardiac', 'cathet', 'ecmo', 'or', 'tracheostomi', 'with', 'mechan', 'ventil', 'hour', 'or', 'princip', 'diagnos', 'except', 'face', 'mouth', 'and', 'neck', 'diagnos', 'with', 'major', 'oper', 'room', 'procedur', 'musculoskelet', 'other', 'procedur', 'for', 'multipl', 'signific', 'trauma', 'other', 'endocrin', 'disord', 'endocrin', 'disord', 'with', 'complic', 'comorbid', 'connect', 'tissu', 'disord', 'connect', 'tissu', 'disord', 'with', 'complic', 'comorbid', 'infecti', 'parasit', 'diseas', 'includ', 'hiv', 'w']\n",
      "\n",
      "\n",
      "Cümle 2 - Base: Procedure INFECTIOUS & PARASITIC DISEASES W OR PROCEDURE CIRRHOSIS & ALCOHOLIC HEPATITIS Other Disorders Of The Liver Other Disorders Of The Liver CIRRHOSIS & ALCOHOLIC HEPATITIS Major Stomach, Esophageal & Duodenal Procedures STOMACH, ESOPHAGEAL & DUODENAL PROC AGE > W CC W/O MAJOR GI DX Infectious & Parasitic Diseases Including HIV W O.R.\n",
      "Cümle 2 - Lemmatized: ['procedure', 'infectious', 'parasitic', 'disease', 'w', 'or', 'procedure', 'cirrhosis', 'alcoholic', 'hepatitis', 'other', 'disorder', 'of', 'the', 'liver', 'other', 'disorder', 'of', 'the', 'liver', 'cirrhosis', 'alcoholic', 'hepatitis', 'major', 'stomach', 'esophageal', 'duodenal', 'procedure', 'stomach', 'esophageal', 'duodenal', 'proc', 'age', 'w', 'cc', 'major', 'gi', 'dx', 'infectious', 'parasitic', 'disease', 'including', 'hiv', 'w']\n",
      "Cümle 2 - Stemmed: ['procedur', 'infecti', 'parasit', 'diseas', 'w', 'or', 'procedur', 'cirrhosi', 'alcohol', 'hepat', 'other', 'disord', 'of', 'the', 'liver', 'other', 'disord', 'of', 'the', 'liver', 'cirrhosi', 'alcohol', 'hepat', 'major', 'stomach', 'esophag', 'duoden', 'procedur', 'stomach', 'esophag', 'duoden', 'proc', 'age', 'w', 'cc', 'major', 'gi', 'dx', 'infecti', 'parasit', 'diseas', 'includ', 'hiv', 'w']\n",
      "\n",
      "\n",
      "Cümle 3 - Base: Procedure INFECTIOUS & PARASITIC DISEASES W OR PROCEDURE Malfunction, Reaction & Comp of Orthopedic Device or Procedure AFTERCARE, MUSCULOSKELETAL SYSTEM & CONNECTIVE TISSUE Hip & Femur Procedures for Trauma Except Joint Replacement HIP & FEMUR PROCEDURES EXCEPT MAJOR JOINT AGE > WITH COMPLICATIONS, COMORBIDITIES Respiratory Malignancy RESPIRATORY NEOPLASMS CIRCULATORY DISORDERS WITH ACUTE MYOCARDIAL INFARCTION, EXPIRED Acute Myocardial Infarction POISONING & TOXIC EFFECTS OF DRUGS AGE > WITH COMPLICATIONS, COMORBIDITIES Poisoning Of Medicinal Agents Intracranial Hemorrhage INTRACRANIAL HEMORRHAGE OR CEREBRAL INFARCTION Respiratory System Diagnosis w/ Ventilator Support + Hours RESPIRATORY SYSTEM DIAGNOSIS WITH VENTILATOR SUPPORT + HRS OTHER MULTIPLE SIGNIFICANT TRAUMA Multiple Significant Trauma W/O O.R.\n",
      "Cümle 3 - Lemmatized: ['procedure', 'infectious', 'parasitic', 'disease', 'w', 'or', 'procedure', 'malfunction', 'reaction', 'comp', 'of', 'orthopedic', 'device', 'or', 'procedure', 'aftercare', 'musculoskeletal', 'system', 'connective', 'tissue', 'hip', 'femur', 'procedure', 'for', 'trauma', 'except', 'joint', 'replacement', 'hip', 'femur', 'procedure', 'except', 'major', 'joint', 'age', 'with', 'complication', 'comorbidities', 'respiratory', 'malignancy', 'respiratory', 'neoplasm', 'circulatory', 'disorder', 'with', 'acute', 'myocardial', 'infarction', 'expired', 'acute', 'myocardial', 'infarction', 'poisoning', 'toxic', 'effect', 'of', 'drug', 'age', 'with', 'complication', 'comorbidities', 'poisoning', 'of', 'medicinal', 'agent', 'intracranial', 'hemorrhage', 'intracranial', 'hemorrhage', 'or', 'cerebral', 'infarction', 'respiratory', 'system', 'diagnosis', 'ventilator', 'support', 'hour', 'respiratory', 'system', 'diagnosis', 'with', 'ventilator', 'support', 'hr', 'other', 'multiple', 'significant', 'trauma', 'multiple', 'significant', 'trauma']\n",
      "Cümle 3 - Stemmed: ['procedur', 'infecti', 'parasit', 'diseas', 'w', 'or', 'procedur', 'malfunct', 'reaction', 'comp', 'of', 'orthoped', 'devic', 'or', 'procedur', 'aftercar', 'musculoskelet', 'system', 'connect', 'tissu', 'hip', 'femur', 'procedur', 'for', 'trauma', 'except', 'joint', 'replac', 'hip', 'femur', 'procedur', 'except', 'major', 'joint', 'age', 'with', 'complic', 'comorbid', 'respiratori', 'malign', 'respiratori', 'neoplasm', 'circulatori', 'disord', 'with', 'acut', 'myocardi', 'infarct', 'expir', 'acut', 'myocardi', 'infarct', 'poison', 'toxic', 'effect', 'of', 'drug', 'age', 'with', 'complic', 'comorbid', 'poison', 'of', 'medicin', 'agent', 'intracrani', 'hemorrhag', 'intracrani', 'hemorrhag', 'or', 'cerebr', 'infarct', 'respiratori', 'system', 'diagnosi', 'ventil', 'support', 'hour', 'respiratori', 'system', 'diagnosi', 'with', 'ventil', 'support', 'hr', 'other', 'multipl', 'signific', 'trauma', 'multipl', 'signific', 'trauma']\n",
      "\n",
      "\n",
      "Cümle 4 - Base: Procedure Heart Failure Heart Failure HEART FAILURE & SHOCK W/O CC/MCC ECMO OR TRACH W MV + HRS OR PDX EXC FACE, MOUTH & NECK W MAJ O.R.\n",
      "Cümle 4 - Lemmatized: ['procedure', 'heart', 'failure', 'heart', 'failure', 'heart', 'failure', 'shock', 'ecmo', 'or', 'trach', 'w', 'mv', 'hr', 'or', 'pdx', 'exc', 'face', 'mouth', 'neck', 'w', 'maj']\n",
      "Cümle 4 - Stemmed: ['procedur', 'heart', 'failur', 'heart', 'failur', 'heart', 'failur', 'shock', 'ecmo', 'or', 'trach', 'w', 'mv', 'hr', 'or', 'pdx', 'exc', 'face', 'mouth', 'neck', 'w', 'maj']\n",
      "\n",
      "\n",
      "Cümle 5 - Base: Tracheostomy W Long Term Mechanical Ventilation W Extensive Procedure Tracheostomy W Long Term Mechanical Ventilation W Extensive Procedure Other Pneumonia Other Pneumonia RESPIRATORY SYSTEM DIAGNOSIS W VENTILATOR SUPPORT < HOURS Pulmonary Embolism Pulmonary Embolism PULMONARY EMBOLISM W MCC CVA & Precerebral Occulusion w/ Infarct CVA & Precerebral Occulusion w/ Infarct INTRACRANIAL HEMORRHAGE OR CEREBRAL INFARCTION W MCC Septicemia & Disseminated Infections SEPTICEMIA OR SEVERE SEPSIS W MV + HOURS Septicemia & Disseminated Infections Other Endocrine Disorders Other Endocrine Disorders ENDOCRINE DISORDERS W MCC Intestinal Obstruction Intestinal Obstruction G.I.\n",
      "Cümle 5 - Lemmatized: ['tracheostomy', 'w', 'long', 'term', 'mechanical', 'ventilation', 'w', 'extensive', 'procedure', 'tracheostomy', 'w', 'long', 'term', 'mechanical', 'ventilation', 'w', 'extensive', 'procedure', 'other', 'pneumonia', 'other', 'pneumonia', 'respiratory', 'system', 'diagnosis', 'w', 'ventilator', 'support', 'hour', 'pulmonary', 'embolism', 'pulmonary', 'embolism', 'pulmonary', 'embolism', 'w', 'mcc', 'cva', 'precerebral', 'occulusion', 'infarct', 'cva', 'precerebral', 'occulusion', 'infarct', 'intracranial', 'hemorrhage', 'or', 'cerebral', 'infarction', 'w', 'mcc', 'septicemia', 'disseminated', 'infection', 'septicemia', 'or', 'severe', 'sepsis', 'w', 'mv', 'hour', 'septicemia', 'disseminated', 'infection', 'other', 'endocrine', 'disorder', 'other', 'endocrine', 'disorder', 'endocrine', 'disorder', 'w', 'mcc', 'intestinal', 'obstruction', 'intestinal', 'obstruction']\n",
      "Cümle 5 - Stemmed: ['tracheostomi', 'w', 'long', 'term', 'mechan', 'ventil', 'w', 'extens', 'procedur', 'tracheostomi', 'w', 'long', 'term', 'mechan', 'ventil', 'w', 'extens', 'procedur', 'other', 'pneumonia', 'other', 'pneumonia', 'respiratori', 'system', 'diagnosi', 'w', 'ventil', 'support', 'hour', 'pulmonari', 'embol', 'pulmonari', 'embol', 'pulmonari', 'embol', 'w', 'mcc', 'cva', 'precerebr', 'occulus', 'infarct', 'cva', 'precerebr', 'occulus', 'infarct', 'intracrani', 'hemorrhag', 'or', 'cerebr', 'infarct', 'w', 'mcc', 'septicemia', 'dissemin', 'infect', 'septicemia', 'or', 'sever', 'sepsi', 'w', 'mv', 'hour', 'septicemia', 'dissemin', 'infect', 'other', 'endocrin', 'disord', 'other', 'endocrin', 'disord', 'endocrin', 'disord', 'w', 'mcc', 'intestin', 'obstruct', 'intestin', 'obstruct']\n",
      "\n",
      "\n"
     ]
    }
   ],
   "source": [
    " # İlk 5 cümleyi yazdıralım\n",
    "for i in range(5):\n",
    "    print(f\"Cümle {i+1} - Base: {sentences[i]}\")\n",
    "    print(f\"Cümle {i+1} - Lemmatized: {tokenized_corpus_lemmatized[i]}\")\n",
    "    print(f\"Cümle {i+1} - Stemmed: {tokenized_corpus_stemmed[i]}\")\n",
    "    print(\"\\n\")"
   ]
  },
  {
   "cell_type": "code",
   "execution_count": null,
   "id": "20ab919e-923b-4c40-b546-e35ee5f87b3e",
   "metadata": {},
   "outputs": [],
   "source": []
  }
 ],
 "metadata": {
  "kernelspec": {
   "display_name": "Python [conda env:base] *",
   "language": "python",
   "name": "conda-base-py"
  },
  "language_info": {
   "codemirror_mode": {
    "name": "ipython",
    "version": 3
   },
   "file_extension": ".py",
   "mimetype": "text/x-python",
   "name": "python",
   "nbconvert_exporter": "python",
   "pygments_lexer": "ipython3",
   "version": "3.12.7"
  }
 },
 "nbformat": 4,
 "nbformat_minor": 5
}
