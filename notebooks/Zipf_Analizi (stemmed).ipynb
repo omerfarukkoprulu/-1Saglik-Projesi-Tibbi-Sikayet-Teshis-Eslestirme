{
 "cells": [
  {
   "cell_type": "code",
   "execution_count": 1,
   "id": "c0abf326-8a73-4943-8602-6e16ec7c9a40",
   "metadata": {},
   "outputs": [
    {
     "name": "stderr",
     "output_type": "stream",
     "text": [
      "[nltk_data] Downloading package punkt to\n",
      "[nltk_data]     C:\\Users\\eren\\AppData\\Roaming\\nltk_data...\n",
      "[nltk_data]   Package punkt is already up-to-date!\n"
     ]
    },
    {
     "data": {
      "text/plain": [
       "True"
      ]
     },
     "execution_count": 1,
     "metadata": {},
     "output_type": "execute_result"
    }
   ],
   "source": [
    "import pandas as pd\n",
    "import re\n",
    "import numpy as np\n",
    "import matplotlib.pyplot as plt\n",
    "from collections import Counter\n",
    "import nltk\n",
    "\n",
    "nltk.download('punkt')"
   ]
  },
  {
   "cell_type": "code",
   "execution_count": 3,
   "id": "479560b7-c83f-4ae7-8e62-631b8b8e686f",
   "metadata": {},
   "outputs": [],
   "source": [
    "df = pd.read_csv(\"stemmed_sentences.csv\", header=None, names=[\"description\"])"
   ]
  },
  {
   "cell_type": "code",
   "execution_count": 5,
   "id": "be81ecf6-bc9c-4dc4-a5a1-a92b80392927",
   "metadata": {},
   "outputs": [
    {
     "data": {
      "text/html": [
       "<div>\n",
       "<style scoped>\n",
       "    .dataframe tbody tr th:only-of-type {\n",
       "        vertical-align: middle;\n",
       "    }\n",
       "\n",
       "    .dataframe tbody tr th {\n",
       "        vertical-align: top;\n",
       "    }\n",
       "\n",
       "    .dataframe thead th {\n",
       "        text-align: right;\n",
       "    }\n",
       "</style>\n",
       "<table border=\"1\" class=\"dataframe\">\n",
       "  <thead>\n",
       "    <tr style=\"text-align: right;\">\n",
       "      <th></th>\n",
       "      <th>description</th>\n",
       "    </tr>\n",
       "  </thead>\n",
       "  <tbody>\n",
       "    <tr>\n",
       "      <th>0</th>\n",
       "      <td>major small larg bowel procedur with complic c...</td>\n",
       "    </tr>\n",
       "    <tr>\n",
       "      <th>1</th>\n",
       "      <td>procedur infecti parasit diseas w or procedur ...</td>\n",
       "    </tr>\n",
       "    <tr>\n",
       "      <th>2</th>\n",
       "      <td>procedur infecti parasit diseas w or procedur ...</td>\n",
       "    </tr>\n",
       "    <tr>\n",
       "      <th>3</th>\n",
       "      <td>procedur heart failur heart failur heart failu...</td>\n",
       "    </tr>\n",
       "    <tr>\n",
       "      <th>4</th>\n",
       "      <td>tracheostomi w long term mechan ventil w exten...</td>\n",
       "    </tr>\n",
       "    <tr>\n",
       "      <th>5</th>\n",
       "      <td>obstruct w mcc other pneumonia other pneumonia...</td>\n",
       "    </tr>\n",
       "    <tr>\n",
       "      <th>6</th>\n",
       "      <td>procedur infecti parasit diseas w</td>\n",
       "    </tr>\n",
       "    <tr>\n",
       "      <th>7</th>\n",
       "      <td>procedur w mcc infecti parasit diseas includ h...</td>\n",
       "    </tr>\n",
       "    <tr>\n",
       "      <th>8</th>\n",
       "      <td>procedur digest malign digest malign other dig...</td>\n",
       "    </tr>\n",
       "    <tr>\n",
       "      <th>9</th>\n",
       "      <td>procedur w mcc septicemia dissemin infect sept...</td>\n",
       "    </tr>\n",
       "    <tr>\n",
       "      <th>10</th>\n",
       "      <td>procedur for neoplasm other</td>\n",
       "    </tr>\n",
       "    <tr>\n",
       "      <th>11</th>\n",
       "      <td>procedur for neoplasm lymphoma leukemia w major</td>\n",
       "    </tr>\n",
       "    <tr>\n",
       "      <th>12</th>\n",
       "      <td>procedur w mcc other disord of the liver other...</td>\n",
       "    </tr>\n",
       "    <tr>\n",
       "      <th>13</th>\n",
       "      <td>heart failur shock w mcc heart failur heart fa...</td>\n",
       "    </tr>\n",
       "    <tr>\n",
       "      <th>14</th>\n",
       "      <td>procedur unrel to princip diagnosi w mcc other...</td>\n",
       "    </tr>\n",
       "    <tr>\n",
       "      <th>15</th>\n",
       "      <td>procedur for neoplasm other</td>\n",
       "    </tr>\n",
       "    <tr>\n",
       "      <th>16</th>\n",
       "      <td>procedur for neoplasm lymphoma leukemia w other</td>\n",
       "    </tr>\n",
       "    <tr>\n",
       "      <th>17</th>\n",
       "      <td>proc w mcc septicemia dissemin infect septicem...</td>\n",
       "    </tr>\n",
       "    <tr>\n",
       "      <th>18</th>\n",
       "      <td>procedur w cc renal failur renal failur renal ...</td>\n",
       "    </tr>\n",
       "    <tr>\n",
       "      <th>19</th>\n",
       "      <td>tracheostomi w long term mechan ventil extens ...</td>\n",
       "    </tr>\n",
       "    <tr>\n",
       "      <th>20</th>\n",
       "      <td>procedur infecti parasit diseas includ hiv w</td>\n",
       "    </tr>\n",
       "    <tr>\n",
       "      <th>21</th>\n",
       "      <td>procedur infecti parasit diseas w</td>\n",
       "    </tr>\n",
       "    <tr>\n",
       "      <th>22</th>\n",
       "      <td>procedur w mcc malfunct reaction complic of ge...</td>\n",
       "    </tr>\n",
       "    <tr>\n",
       "      <th>23</th>\n",
       "      <td>devic or procedur malfunct reaction complic of</td>\n",
       "    </tr>\n",
       "    <tr>\n",
       "      <th>24</th>\n",
       "      <td>devic or procedur other digest system diagnos ...</td>\n",
       "    </tr>\n",
       "  </tbody>\n",
       "</table>\n",
       "</div>"
      ],
      "text/plain": [
       "                                          description\n",
       "0   major small larg bowel procedur with complic c...\n",
       "1   procedur infecti parasit diseas w or procedur ...\n",
       "2   procedur infecti parasit diseas w or procedur ...\n",
       "3   procedur heart failur heart failur heart failu...\n",
       "4   tracheostomi w long term mechan ventil w exten...\n",
       "5   obstruct w mcc other pneumonia other pneumonia...\n",
       "6                   procedur infecti parasit diseas w\n",
       "7   procedur w mcc infecti parasit diseas includ h...\n",
       "8   procedur digest malign digest malign other dig...\n",
       "9   procedur w mcc septicemia dissemin infect sept...\n",
       "10                        procedur for neoplasm other\n",
       "11    procedur for neoplasm lymphoma leukemia w major\n",
       "12  procedur w mcc other disord of the liver other...\n",
       "13  heart failur shock w mcc heart failur heart fa...\n",
       "14  procedur unrel to princip diagnosi w mcc other...\n",
       "15                        procedur for neoplasm other\n",
       "16    procedur for neoplasm lymphoma leukemia w other\n",
       "17  proc w mcc septicemia dissemin infect septicem...\n",
       "18  procedur w cc renal failur renal failur renal ...\n",
       "19  tracheostomi w long term mechan ventil extens ...\n",
       "20       procedur infecti parasit diseas includ hiv w\n",
       "21                  procedur infecti parasit diseas w\n",
       "22  procedur w mcc malfunct reaction complic of ge...\n",
       "23     devic or procedur malfunct reaction complic of\n",
       "24  devic or procedur other digest system diagnos ..."
      ]
     },
     "execution_count": 5,
     "metadata": {},
     "output_type": "execute_result"
    }
   ],
   "source": [
    "df"
   ]
  },
  {
   "cell_type": "code",
   "execution_count": 7,
   "id": "da2d1280-49d8-498d-974f-9673b6698563",
   "metadata": {},
   "outputs": [],
   "source": [
    "def zipf_analysis(text_column, num_words=50):\n",
    "    # Geçersiz ve boş değerleri temizle\n",
    "    cleaned_texts = text_column.dropna().astype(str)\n",
    "\n",
    "    if cleaned_texts.empty:\n",
    "        print(\"Uyarı: Metin verisi boş. Analiz yapılamaz.\")\n",
    "        return\n",
    "\n",
    "    # Metinleri birleştir ve temizle\n",
    "    text = ' '.join(cleaned_texts).lower()\n",
    "    text = re.sub(r'[^\\w\\s]', '', text)\n",
    "\n",
    "    # Tokenizasyon\n",
    "    tokens = nltk.word_tokenize(text)\n",
    "    tokens = [token for token in tokens if token.isalpha()]\n",
    "\n",
    "    if not tokens:\n",
    "        print(\"Uyarı: Temizleme sonrası analiz yapılacak kelime kalmadı.\")\n",
    "        return\n",
    "\n",
    "    # Kelime sıklığı\n",
    "    word_counts = Counter(tokens)\n",
    "    most_common_words = word_counts.most_common(num_words)\n",
    "\n",
    "    # Sıra ve sıklık verileri\n",
    "    ranks = np.arange(1, len(most_common_words) + 1)\n",
    "    frequencies = [count for word, count in most_common_words]\n",
    "\n",
    "    # Grafik\n",
    "    plt.figure(figsize=(10, 6))\n",
    "    plt.loglog(ranks, frequencies, marker='o')\n",
    "    plt.xlabel('Kelime Sırası (log)')\n",
    "    plt.ylabel('Kelime Sıklığı (log)')\n",
    "    plt.title('Zipf Yasası Analizi (stemmed_sentences)')\n",
    "    plt.grid(True)\n",
    "    plt.show()\n",
    "\n",
    "    # Bilgi çıktısı\n",
    "    print(f\"Toplam kelime sayısı: {len(tokens)}\")\n",
    "    print(f\"Farklı kelime sayısı: {len(word_counts)}\")\n",
    "\n",
    "    if len(tokens) < 10000:\n",
    "        print(\"Veri seti küçük. Zipf analizi sınırlı genellenebilir.\")\n",
    "    else:\n",
    "        print(\"Veri seti yeterli büyüklükte.\")"
   ]
  },
  {
   "cell_type": "code",
   "execution_count": 9,
   "id": "b3cd05d3-ff89-4b22-95be-adc2838e044f",
   "metadata": {},
   "outputs": [
    {
     "data": {
      "image/png": "[encoded data removed]",
      "text/plain": [
       "<Figure size 1000x600 with 1 Axes>"
      ]
     },
     "metadata": {},
     "output_type": "display_data"
    },
    {
     "name": "stdout",
     "output_type": "stream",
     "text": [
      "Toplam kelime sayısı: 1617\n",
      "Farklı kelime sayısı: 216\n",
      "Veri seti küçük. Zipf analizi sınırlı genellenebilir.\n"
     ]
    }
   ],
   "source": [
    "df = pd.read_csv(\"stemmed_sentences.csv\", header=None, names=[\"description\"])\n",
    "zipf_analysis(df[\"description\"])"
   ]
  },
  {
   "cell_type": "code",
   "execution_count": null,
   "id": "c559042b-5652-4590-bcd3-8b707411920c",
   "metadata": {},
   "outputs": [],
   "source": []
  }
 ],
 "metadata": {
  "kernelspec": {
   "display_name": "Python [conda env:base] *",
   "language": "python",
   "name": "conda-base-py"
  },
  "language_info": {
   "codemirror_mode": {
    "name": "ipython",
    "version": 3
   },
   "file_extension": ".py",
   "mimetype": "text/x-python",
   "name": "python",
   "nbconvert_exporter": "python",
   "pygments_lexer": "ipython3",
   "version": "3.12.7"
  }
 },
 "nbformat": 4,
 "nbformat_minor": 5
}
