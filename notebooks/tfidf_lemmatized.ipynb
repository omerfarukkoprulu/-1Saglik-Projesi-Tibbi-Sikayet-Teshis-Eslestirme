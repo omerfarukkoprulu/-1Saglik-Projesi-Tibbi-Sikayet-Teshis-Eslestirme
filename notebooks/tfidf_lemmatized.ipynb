{
 "cells": [
  {
   "cell_type": "code",
   "execution_count": 1,
   "id": "0d0596e2-caad-4ccb-8067-0ec9bec4c3a4",
   "metadata": {},
   "outputs": [],
   "source": [
    "import nltk\n",
    "from nltk.tokenize import word_tokenize, sent_tokenize\n",
    "from nltk.corpus import stopwords\n",
    "from nltk.stem import WordNetLemmatizer, PorterStemmer\n",
    "import pandas as pd\n",
    "import numpy as np"
   ]
  },
  {
   "cell_type": "code",
   "execution_count": 19,
   "id": "f0b37788-7dc0-4499-a21f-ee5ba92565af",
   "metadata": {},
   "outputs": [
    {
     "name": "stderr",
     "output_type": "stream",
     "text": [
      "[nltk_data] Downloading package wordnet to\n",
      "[nltk_data]     C:\\Users\\eren\\AppData\\Roaming\\nltk_data...\n",
      "[nltk_data]   Package wordnet is already up-to-date!\n",
      "[nltk_data] Downloading package punkt to\n",
      "[nltk_data]     C:\\Users\\eren\\AppData\\Roaming\\nltk_data...\n",
      "[nltk_data]   Package punkt is already up-to-date!\n",
      "[nltk_data] Downloading package stopwords to\n",
      "[nltk_data]     C:\\Users\\eren\\AppData\\Roaming\\nltk_data...\n",
      "[nltk_data]   Package stopwords is already up-to-date!\n"
     ]
    },
    {
     "data": {
      "text/plain": [
       "True"
      ]
     },
     "execution_count": 19,
     "metadata": {},
     "output_type": "execute_result"
    }
   ],
   "source": [
    "import nltk\n",
    "nltk.download('wordnet')\n",
    "nltk.download('punkt')\n",
    "nltk.download('stopwords')"
   ]
  },
  {
   "cell_type": "code",
   "execution_count": 41,
   "id": "7bb904aa-3703-488a-bf9a-3c81f50f486c",
   "metadata": {},
   "outputs": [],
   "source": [
    "import nltk\n",
    "from nltk.stem import WordNetLemmatizer, PorterStemmer\n",
    "from nltk.corpus import stopwords\n",
    "import re # Metin temizleme için gerekebilir\n",
    "\n",
    "# Lemmatizer ve Stemmer objelerini tanımla\n",
    "lemmatizer = WordNetLemmatizer()\n",
    "stemmer = PorterStemmer()\n",
    "\n",
    "# Stop-words listesini al (Türkçe stop-words için özel bir listeye ihtiyacın olabilir,\n",
    "# burada genel İngilizce stop-words kullanılıyor. Türkçe için internetten bulabilirsin)\n",
    "stop_words = set(stopwords.words('english')) # Ya da 'turkish' eğer varsa\n",
    "\n",
    "def preprocess_sentence(sentence):\n",
    "    # Metni küçük harfe çevir ve noktalama işaretlerini kaldır (isteğe bağlı)\n",
    "    sentence = sentence.lower()\n",
    "    sentence = re.sub(r'[^\\w\\s]', '', sentence) # Sadece kelimeler ve boşluklar kalsın\n",
    "\n",
    "    # Cümleyi kelimelere ayır\n",
    "    tokens = nltk.word_tokenize(sentence)\n",
    "\n",
    "    # Sadece harf olan kelimeleri al ve stopword'leri çıkar\n",
    "    filtered_tokens = [token for token in tokens if token.isalpha() and token not in stop_words]\n",
    "\n",
    "    # Lemmatize etme\n",
    "    lemmatized_tokens = [lemmatizer.lemmatize(token) for token in filtered_tokens]\n",
    "\n",
    "    # Stemleme\n",
    "    stemmed_tokens = [stemmer.stem(token) for token in filtered_tokens]\n",
    "\n",
    "    return lemmatized_tokens, stemmed_tokens"
   ]
  },
  {
   "cell_type": "code",
   "execution_count": 43,
   "id": "61f7b5a1-e1fe-4811-a753-067fa8213ede",
   "metadata": {},
   "outputs": [],
   "source": [
    "df= pd.read_csv(\"lemmatized_sentences.csv\")"
   ]
  },
  {
   "cell_type": "code",
   "execution_count": 45,
   "id": "aab68d36-1050-4d22-bf62-e6ece831695c",
   "metadata": {},
   "outputs": [
    {
     "data": {
      "text/html": [
       "<div>\n",
       "<style scoped>\n",
       "    .dataframe tbody tr th:only-of-type {\n",
       "        vertical-align: middle;\n",
       "    }\n",
       "\n",
       "    .dataframe tbody tr th {\n",
       "        vertical-align: top;\n",
       "    }\n",
       "\n",
       "    .dataframe thead th {\n",
       "        text-align: right;\n",
       "    }\n",
       "</style>\n",
       "<table border=\"1\" class=\"dataframe\">\n",
       "  <thead>\n",
       "    <tr style=\"text-align: right;\">\n",
       "      <th></th>\n",
       "      <th>major small large bowel procedure with complication comorbidities percutaneous cardiovascular procedure without acute myocardial infarction without coronary artery stent implant dental oral dis except extraction restoration age craniotomy age except for trauma disorder of liver except malignancy cirrhosis alcoholic hepatitis with complication comorbidities seizure headache age with complication comorbidities cardiac arrhythmia conduction disorder with complication comorbidities extracranial vascular procedure permanent cardiac pacemaker implant with acute myocardial infarction heart failure or shock or aicd lead or generator proc septicemia age simple pneumonia pleurisy age with complication comorbidities coronary bypass without cardiac catheter lower extremity humerus procedure except hip foot femur age complication comorbidities circulatory disorder with acute myocardial infarction major complication discharged alive nervous system neoplasm with complication comorbidities nervous system infection except viral meningitis kidney urinary tract infection age with complication comorbidities septicemia age respiratory infection inflammation age with complication comorbidities extensive operating room procedure unrelated to principal diagnosis septicemia age respiratory system diagnosis with ventilator support percutaneous cardiovascular procedure with stent without acute myocardial infarction circulatory disorder with acute myocardial infarction major complication discharged alive septicemia age septicemia age liver transplant ecmo or tracheostomy with mechanical ventilation hour or principal diagnosis except face mouth and neck diagnosis with major operating room procedure septicemia age lymphoma leukemia with complication comorbidities respiratory system diagnosis with ventilator support septicemia age craniotomy for trauma craniotomy age with complication comorbidities peptic ulcer gastritis gastrointestinal hemorrhage with complication comorbidities cholecystectomy with common duct exploration with complication comorbidities other operating room procedure for multiple significant trauma intracranial hemorrhage or cerebral infarction extensive procedure unrelated to principal diagnosis extensive operating room procedure unrelated to principal diagnosis septicemia disseminated infection septicemia age other endocrine disorder endocrine disorder with complication comorbidities shoulder upper arm forearm procedure major joint limb reattachment procedure of upper extremity cardiac valve procedure cardiac catheterization cardiac valve other major cardiothoracic proc without cardiac catheter ecmo or tracheostomy with mechanical ventilation hour or principal diagnosis except face mouth and neck diagnosis with major operating room procedure musculoskeletal other procedure for multiple significant trauma other endocrine disorder endocrine disorder with complication comorbidities connective tissue disorder connective tissue disorder with complication comorbidities infectious parasitic disease including hiv w</th>\n",
       "    </tr>\n",
       "  </thead>\n",
       "  <tbody>\n",
       "    <tr>\n",
       "      <th>0</th>\n",
       "      <td>procedure infectious parasitic disease w or pr...</td>\n",
       "    </tr>\n",
       "    <tr>\n",
       "      <th>1</th>\n",
       "      <td>procedure infectious parasitic disease w or pr...</td>\n",
       "    </tr>\n",
       "    <tr>\n",
       "      <th>2</th>\n",
       "      <td>procedure heart failure heart failure heart fa...</td>\n",
       "    </tr>\n",
       "    <tr>\n",
       "      <th>3</th>\n",
       "      <td>tracheostomy w long term mechanical ventilatio...</td>\n",
       "    </tr>\n",
       "    <tr>\n",
       "      <th>4</th>\n",
       "      <td>obstruction w mcc other pneumonia other pneumo...</td>\n",
       "    </tr>\n",
       "    <tr>\n",
       "      <th>5</th>\n",
       "      <td>procedure infectious parasitic disease w</td>\n",
       "    </tr>\n",
       "    <tr>\n",
       "      <th>6</th>\n",
       "      <td>procedure w mcc infectious parasitic disease i...</td>\n",
       "    </tr>\n",
       "    <tr>\n",
       "      <th>7</th>\n",
       "      <td>procedure digestive malignancy digestive malig...</td>\n",
       "    </tr>\n",
       "    <tr>\n",
       "      <th>8</th>\n",
       "      <td>procedure w mcc septicemia disseminated infect...</td>\n",
       "    </tr>\n",
       "    <tr>\n",
       "      <th>9</th>\n",
       "      <td>procedure for neoplasm other</td>\n",
       "    </tr>\n",
       "    <tr>\n",
       "      <th>10</th>\n",
       "      <td>procedure for neoplasm lymphoma leukemia w major</td>\n",
       "    </tr>\n",
       "    <tr>\n",
       "      <th>11</th>\n",
       "      <td>procedure w mcc other disorder of the liver ot...</td>\n",
       "    </tr>\n",
       "    <tr>\n",
       "      <th>12</th>\n",
       "      <td>heart failure shock w mcc heart failure heart ...</td>\n",
       "    </tr>\n",
       "    <tr>\n",
       "      <th>13</th>\n",
       "      <td>procedure unrelated to principal diagnosis w m...</td>\n",
       "    </tr>\n",
       "    <tr>\n",
       "      <th>14</th>\n",
       "      <td>procedure for neoplasm other</td>\n",
       "    </tr>\n",
       "    <tr>\n",
       "      <th>15</th>\n",
       "      <td>procedure for neoplasm lymphoma leukemia w other</td>\n",
       "    </tr>\n",
       "    <tr>\n",
       "      <th>16</th>\n",
       "      <td>proc w mcc septicemia disseminated infection s...</td>\n",
       "    </tr>\n",
       "    <tr>\n",
       "      <th>17</th>\n",
       "      <td>procedure w cc renal failure renal failure ren...</td>\n",
       "    </tr>\n",
       "    <tr>\n",
       "      <th>18</th>\n",
       "      <td>tracheostomy w long term mechanical ventilatio...</td>\n",
       "    </tr>\n",
       "    <tr>\n",
       "      <th>19</th>\n",
       "      <td>procedure infectious parasitic disease includi...</td>\n",
       "    </tr>\n",
       "    <tr>\n",
       "      <th>20</th>\n",
       "      <td>procedure infectious parasitic disease w</td>\n",
       "    </tr>\n",
       "    <tr>\n",
       "      <th>21</th>\n",
       "      <td>procedure w mcc malfunction reaction complic o...</td>\n",
       "    </tr>\n",
       "    <tr>\n",
       "      <th>22</th>\n",
       "      <td>device or procedure malfunction reaction compl...</td>\n",
       "    </tr>\n",
       "    <tr>\n",
       "      <th>23</th>\n",
       "      <td>device or procedure other digestive system dia...</td>\n",
       "    </tr>\n",
       "  </tbody>\n",
       "</table>\n",
       "</div>"
      ],
      "text/plain": [
       "   major small large bowel procedure with complication comorbidities percutaneous cardiovascular procedure without acute myocardial infarction without coronary artery stent implant dental oral dis except extraction restoration age craniotomy age except for trauma disorder of liver except malignancy cirrhosis alcoholic hepatitis with complication comorbidities seizure headache age with complication comorbidities cardiac arrhythmia conduction disorder with complication comorbidities extracranial vascular procedure permanent cardiac pacemaker implant with acute myocardial infarction heart failure or shock or aicd lead or generator proc septicemia age simple pneumonia pleurisy age with complication comorbidities coronary bypass without cardiac catheter lower extremity humerus procedure except hip foot femur age complication comorbidities circulatory disorder with acute myocardial infarction major complication discharged alive nervous system neoplasm with complication comorbidities nervous system infection except viral meningitis kidney urinary tract infection age with complication comorbidities septicemia age respiratory infection inflammation age with complication comorbidities extensive operating room procedure unrelated to principal diagnosis septicemia age respiratory system diagnosis with ventilator support percutaneous cardiovascular procedure with stent without acute myocardial infarction circulatory disorder with acute myocardial infarction major complication discharged alive septicemia age septicemia age liver transplant ecmo or tracheostomy with mechanical ventilation hour or principal diagnosis except face mouth and neck diagnosis with major operating room procedure septicemia age lymphoma leukemia with complication comorbidities respiratory system diagnosis with ventilator support septicemia age craniotomy for trauma craniotomy age with complication comorbidities peptic ulcer gastritis gastrointestinal hemorrhage with complication comorbidities cholecystectomy with common duct exploration with complication comorbidities other operating room procedure for multiple significant trauma intracranial hemorrhage or cerebral infarction extensive procedure unrelated to principal diagnosis extensive operating room procedure unrelated to principal diagnosis septicemia disseminated infection septicemia age other endocrine disorder endocrine disorder with complication comorbidities shoulder upper arm forearm procedure major joint limb reattachment procedure of upper extremity cardiac valve procedure cardiac catheterization cardiac valve other major cardiothoracic proc without cardiac catheter ecmo or tracheostomy with mechanical ventilation hour or principal diagnosis except face mouth and neck diagnosis with major operating room procedure musculoskeletal other procedure for multiple significant trauma other endocrine disorder endocrine disorder with complication comorbidities connective tissue disorder connective tissue disorder with complication comorbidities infectious parasitic disease including hiv w\n",
       "0   procedure infectious parasitic disease w or pr...                                                                                                                                                                                                                                                                                                                                                                                                                                                                                                                                                                                                                                                                                                                                                                                                                                                                                                                                                                                                                                                                                                                                                                                                                                                                                                                                                                                                                                                                                                                                                                                                                                                                                                                                                                                                                                                                                                                                                                                                                                                                                                                                                                                                                                                                                                                                                                                                                                                                                                                                                                                                                                                                                                                                                                                                                                                                                                                                                                                                                                                                                                                          \n",
       "1   procedure infectious parasitic disease w or pr...                                                                                                                                                                                                                                                                                                                                                                                                                                                                                                                                                                                                                                                                                                                                                                                                                                                                                                                                                                                                                                                                                                                                                                                                                                                                                                                                                                                                                                                                                                                                                                                                                                                                                                                                                                                                                                                                                                                                                                                                                                                                                                                                                                                                                                                                                                                                                                                                                                                                                                                                                                                                                                                                                                                                                                                                                                                                                                                                                                                                                                                                                                                          \n",
       "2   procedure heart failure heart failure heart fa...                                                                                                                                                                                                                                                                                                                                                                                                                                                                                                                                                                                                                                                                                                                                                                                                                                                                                                                                                                                                                                                                                                                                                                                                                                                                                                                                                                                                                                                                                                                                                                                                                                                                                                                                                                                                                                                                                                                                                                                                                                                                                                                                                                                                                                                                                                                                                                                                                                                                                                                                                                                                                                                                                                                                                                                                                                                                                                                                                                                                                                                                                                                          \n",
       "3   tracheostomy w long term mechanical ventilatio...                                                                                                                                                                                                                                                                                                                                                                                                                                                                                                                                                                                                                                                                                                                                                                                                                                                                                                                                                                                                                                                                                                                                                                                                                                                                                                                                                                                                                                                                                                                                                                                                                                                                                                                                                                                                                                                                                                                                                                                                                                                                                                                                                                                                                                                                                                                                                                                                                                                                                                                                                                                                                                                                                                                                                                                                                                                                                                                                                                                                                                                                                                                          \n",
       "4   obstruction w mcc other pneumonia other pneumo...                                                                                                                                                                                                                                                                                                                                                                                                                                                                                                                                                                                                                                                                                                                                                                                                                                                                                                                                                                                                                                                                                                                                                                                                                                                                                                                                                                                                                                                                                                                                                                                                                                                                                                                                                                                                                                                                                                                                                                                                                                                                                                                                                                                                                                                                                                                                                                                                                                                                                                                                                                                                                                                                                                                                                                                                                                                                                                                                                                                                                                                                                                                          \n",
       "5            procedure infectious parasitic disease w                                                                                                                                                                                                                                                                                                                                                                                                                                                                                                                                                                                                                                                                                                                                                                                                                                                                                                                                                                                                                                                                                                                                                                                                                                                                                                                                                                                                                                                                                                                                                                                                                                                                                                                                                                                                                                                                                                                                                                                                                                                                                                                                                                                                                                                                                                                                                                                                                                                                                                                                                                                                                                                                                                                                                                                                                                                                                                                                                                                                                                                                                                                          \n",
       "6   procedure w mcc infectious parasitic disease i...                                                                                                                                                                                                                                                                                                                                                                                                                                                                                                                                                                                                                                                                                                                                                                                                                                                                                                                                                                                                                                                                                                                                                                                                                                                                                                                                                                                                                                                                                                                                                                                                                                                                                                                                                                                                                                                                                                                                                                                                                                                                                                                                                                                                                                                                                                                                                                                                                                                                                                                                                                                                                                                                                                                                                                                                                                                                                                                                                                                                                                                                                                                          \n",
       "7   procedure digestive malignancy digestive malig...                                                                                                                                                                                                                                                                                                                                                                                                                                                                                                                                                                                                                                                                                                                                                                                                                                                                                                                                                                                                                                                                                                                                                                                                                                                                                                                                                                                                                                                                                                                                                                                                                                                                                                                                                                                                                                                                                                                                                                                                                                                                                                                                                                                                                                                                                                                                                                                                                                                                                                                                                                                                                                                                                                                                                                                                                                                                                                                                                                                                                                                                                                                          \n",
       "8   procedure w mcc septicemia disseminated infect...                                                                                                                                                                                                                                                                                                                                                                                                                                                                                                                                                                                                                                                                                                                                                                                                                                                                                                                                                                                                                                                                                                                                                                                                                                                                                                                                                                                                                                                                                                                                                                                                                                                                                                                                                                                                                                                                                                                                                                                                                                                                                                                                                                                                                                                                                                                                                                                                                                                                                                                                                                                                                                                                                                                                                                                                                                                                                                                                                                                                                                                                                                                          \n",
       "9                        procedure for neoplasm other                                                                                                                                                                                                                                                                                                                                                                                                                                                                                                                                                                                                                                                                                                                                                                                                                                                                                                                                                                                                                                                                                                                                                                                                                                                                                                                                                                                                                                                                                                                                                                                                                                                                                                                                                                                                                                                                                                                                                                                                                                                                                                                                                                                                                                                                                                                                                                                                                                                                                                                                                                                                                                                                                                                                                                                                                                                                                                                                                                                                                                                                                                                          \n",
       "10   procedure for neoplasm lymphoma leukemia w major                                                                                                                                                                                                                                                                                                                                                                                                                                                                                                                                                                                                                                                                                                                                                                                                                                                                                                                                                                                                                                                                                                                                                                                                                                                                                                                                                                                                                                                                                                                                                                                                                                                                                                                                                                                                                                                                                                                                                                                                                                                                                                                                                                                                                                                                                                                                                                                                                                                                                                                                                                                                                                                                                                                                                                                                                                                                                                                                                                                                                                                                                                                          \n",
       "11  procedure w mcc other disorder of the liver ot...                                                                                                                                                                                                                                                                                                                                                                                                                                                                                                                                                                                                                                                                                                                                                                                                                                                                                                                                                                                                                                                                                                                                                                                                                                                                                                                                                                                                                                                                                                                                                                                                                                                                                                                                                                                                                                                                                                                                                                                                                                                                                                                                                                                                                                                                                                                                                                                                                                                                                                                                                                                                                                                                                                                                                                                                                                                                                                                                                                                                                                                                                                                          \n",
       "12  heart failure shock w mcc heart failure heart ...                                                                                                                                                                                                                                                                                                                                                                                                                                                                                                                                                                                                                                                                                                                                                                                                                                                                                                                                                                                                                                                                                                                                                                                                                                                                                                                                                                                                                                                                                                                                                                                                                                                                                                                                                                                                                                                                                                                                                                                                                                                                                                                                                                                                                                                                                                                                                                                                                                                                                                                                                                                                                                                                                                                                                                                                                                                                                                                                                                                                                                                                                                                          \n",
       "13  procedure unrelated to principal diagnosis w m...                                                                                                                                                                                                                                                                                                                                                                                                                                                                                                                                                                                                                                                                                                                                                                                                                                                                                                                                                                                                                                                                                                                                                                                                                                                                                                                                                                                                                                                                                                                                                                                                                                                                                                                                                                                                                                                                                                                                                                                                                                                                                                                                                                                                                                                                                                                                                                                                                                                                                                                                                                                                                                                                                                                                                                                                                                                                                                                                                                                                                                                                                                                          \n",
       "14                       procedure for neoplasm other                                                                                                                                                                                                                                                                                                                                                                                                                                                                                                                                                                                                                                                                                                                                                                                                                                                                                                                                                                                                                                                                                                                                                                                                                                                                                                                                                                                                                                                                                                                                                                                                                                                                                                                                                                                                                                                                                                                                                                                                                                                                                                                                                                                                                                                                                                                                                                                                                                                                                                                                                                                                                                                                                                                                                                                                                                                                                                                                                                                                                                                                                                                          \n",
       "15   procedure for neoplasm lymphoma leukemia w other                                                                                                                                                                                                                                                                                                                                                                                                                                                                                                                                                                                                                                                                                                                                                                                                                                                                                                                                                                                                                                                                                                                                                                                                                                                                                                                                                                                                                                                                                                                                                                                                                                                                                                                                                                                                                                                                                                                                                                                                                                                                                                                                                                                                                                                                                                                                                                                                                                                                                                                                                                                                                                                                                                                                                                                                                                                                                                                                                                                                                                                                                                                          \n",
       "16  proc w mcc septicemia disseminated infection s...                                                                                                                                                                                                                                                                                                                                                                                                                                                                                                                                                                                                                                                                                                                                                                                                                                                                                                                                                                                                                                                                                                                                                                                                                                                                                                                                                                                                                                                                                                                                                                                                                                                                                                                                                                                                                                                                                                                                                                                                                                                                                                                                                                                                                                                                                                                                                                                                                                                                                                                                                                                                                                                                                                                                                                                                                                                                                                                                                                                                                                                                                                                          \n",
       "17  procedure w cc renal failure renal failure ren...                                                                                                                                                                                                                                                                                                                                                                                                                                                                                                                                                                                                                                                                                                                                                                                                                                                                                                                                                                                                                                                                                                                                                                                                                                                                                                                                                                                                                                                                                                                                                                                                                                                                                                                                                                                                                                                                                                                                                                                                                                                                                                                                                                                                                                                                                                                                                                                                                                                                                                                                                                                                                                                                                                                                                                                                                                                                                                                                                                                                                                                                                                                          \n",
       "18  tracheostomy w long term mechanical ventilatio...                                                                                                                                                                                                                                                                                                                                                                                                                                                                                                                                                                                                                                                                                                                                                                                                                                                                                                                                                                                                                                                                                                                                                                                                                                                                                                                                                                                                                                                                                                                                                                                                                                                                                                                                                                                                                                                                                                                                                                                                                                                                                                                                                                                                                                                                                                                                                                                                                                                                                                                                                                                                                                                                                                                                                                                                                                                                                                                                                                                                                                                                                                                          \n",
       "19  procedure infectious parasitic disease includi...                                                                                                                                                                                                                                                                                                                                                                                                                                                                                                                                                                                                                                                                                                                                                                                                                                                                                                                                                                                                                                                                                                                                                                                                                                                                                                                                                                                                                                                                                                                                                                                                                                                                                                                                                                                                                                                                                                                                                                                                                                                                                                                                                                                                                                                                                                                                                                                                                                                                                                                                                                                                                                                                                                                                                                                                                                                                                                                                                                                                                                                                                                                          \n",
       "20           procedure infectious parasitic disease w                                                                                                                                                                                                                                                                                                                                                                                                                                                                                                                                                                                                                                                                                                                                                                                                                                                                                                                                                                                                                                                                                                                                                                                                                                                                                                                                                                                                                                                                                                                                                                                                                                                                                                                                                                                                                                                                                                                                                                                                                                                                                                                                                                                                                                                                                                                                                                                                                                                                                                                                                                                                                                                                                                                                                                                                                                                                                                                                                                                                                                                                                                                          \n",
       "21  procedure w mcc malfunction reaction complic o...                                                                                                                                                                                                                                                                                                                                                                                                                                                                                                                                                                                                                                                                                                                                                                                                                                                                                                                                                                                                                                                                                                                                                                                                                                                                                                                                                                                                                                                                                                                                                                                                                                                                                                                                                                                                                                                                                                                                                                                                                                                                                                                                                                                                                                                                                                                                                                                                                                                                                                                                                                                                                                                                                                                                                                                                                                                                                                                                                                                                                                                                                                                          \n",
       "22  device or procedure malfunction reaction compl...                                                                                                                                                                                                                                                                                                                                                                                                                                                                                                                                                                                                                                                                                                                                                                                                                                                                                                                                                                                                                                                                                                                                                                                                                                                                                                                                                                                                                                                                                                                                                                                                                                                                                                                                                                                                                                                                                                                                                                                                                                                                                                                                                                                                                                                                                                                                                                                                                                                                                                                                                                                                                                                                                                                                                                                                                                                                                                                                                                                                                                                                                                                          \n",
       "23  device or procedure other digestive system dia...                                                                                                                                                                                                                                                                                                                                                                                                                                                                                                                                                                                                                                                                                                                                                                                                                                                                                                                                                                                                                                                                                                                                                                                                                                                                                                                                                                                                                                                                                                                                                                                                                                                                                                                                                                                                                                                                                                                                                                                                                                                                                                                                                                                                                                                                                                                                                                                                                                                                                                                                                                                                                                                                                                                                                                                                                                                                                                                                                                                                                                                                                                                          "
      ]
     },
     "execution_count": 45,
     "metadata": {},
     "output_type": "execute_result"
    }
   ],
   "source": [
    "df"
   ]
  },
  {
   "cell_type": "code",
   "execution_count": 47,
   "id": "e9b9b509-5f8e-446c-ba6c-48f8887570eb",
   "metadata": {},
   "outputs": [
    {
     "name": "stdout",
     "output_type": "stream",
     "text": [
      "                                                   0\n",
      "0  procedure infectious parasitic disease w or pr...\n",
      "1  procedure infectious parasitic disease w or pr...\n",
      "2  procedure heart failure heart failure heart fa...\n",
      "3  tracheostomy w long term mechanical ventilatio...\n",
      "4  obstruction w mcc other pneumonia other pneumo...\n"
     ]
    }
   ],
   "source": [
    "df.columns = [\"0\"]\n",
    "\n",
    "# NaN değerleri ve boş stringleri temizle\n",
    "df = df.dropna()\n",
    "df = df[df[\"0\"].str.strip() != \"\"]\n",
    "\n",
    "# Temizlenmiş ilk 5 cümleyi göster\n",
    "print(df.head())"
   ]
  },
  {
   "cell_type": "code",
   "execution_count": 49,
   "id": "1acd63ad-781b-4be3-89ef-a88cabb3cc26",
   "metadata": {},
   "outputs": [],
   "source": [
    "#Varsayalım ki DataFrame'iniz df ve yorumlar '0' sütununda\n",
    "text = ' '.join(df['0'].astype(str).tolist())  # Tüm yorumları tek bir metin haline getir\n",
    "sentences = sent_tokenize(text)  # Metni cümlelere ayır"
   ]
  },
  {
   "cell_type": "code",
   "execution_count": 51,
   "id": "216a7f08-738e-40f6-89bd-b253918ad612",
   "metadata": {},
   "outputs": [],
   "source": [
    "# Stopwords listesini almak\n",
    "stop_words = set(stopwords.words('english'))"
   ]
  },
  {
   "cell_type": "code",
   "execution_count": 53,
   "id": "9351220b-ac65-4c9a-87fa-93b897f14878",
   "metadata": {},
   "outputs": [],
   "source": [
    "# Kelimeleri tokenleştirip, lemmatize etme ve stemleme\n",
    "def preprocess_sentence(sentence):\n",
    "    tokens = word_tokenize(sentence)  # Cümleyi kelimelere ayır\n",
    "    # Sadece harf olan kelimeleri al ve stopword'leri çıkar\n",
    "    filtered_tokens = [token.lower() for token in tokens if token.isalpha() and token.lower() not in stop_words]\n",
    "    \n",
    "    lemmatized_tokens = [lemmatizer.lemmatize(token) for token in filtered_tokens]  # Lemmatize etme\n",
    "    stemmed_tokens = [stemmer.stem(token) for token in filtered_tokens]  # Stemleme\n",
    "    \n",
    "    return lemmatized_tokens, stemmed_tokens"
   ]
  },
  {
   "cell_type": "code",
   "execution_count": 55,
   "id": "81aae30e-c4d5-4058-8a51-63acb6e94e39",
   "metadata": {},
   "outputs": [],
   "source": [
    "# Her cümleyi tokenleştir, lemmatize et ve stemle\n",
    "tokenized_corpus_lemmatized = []\n",
    "tokenized_corpus_stemmed = []"
   ]
  },
  {
   "cell_type": "code",
   "execution_count": 57,
   "id": "7c2da78c-9f46-4238-a3b4-3b756fa07862",
   "metadata": {},
   "outputs": [],
   "source": [
    "for sentence in sentences:\n",
    "    lemmatized_tokens, stemmed_tokens = preprocess_sentence(sentence)\n",
    "    tokenized_corpus_lemmatized.append(lemmatized_tokens)\n",
    "    tokenized_corpus_stemmed.append(stemmed_tokens)"
   ]
  },
  {
   "cell_type": "code",
   "execution_count": 59,
   "id": "a73709eb-0258-4c27-a998-8cf52f416e01",
   "metadata": {},
   "outputs": [],
   "source": [
    "from sklearn.feature_extraction.text import TfidfVectorizer\n"
   ]
  },
  {
   "cell_type": "code",
   "execution_count": 61,
   "id": "cc2fa86b-27e2-400c-920a-98d3f499d5c0",
   "metadata": {},
   "outputs": [
    {
     "data": {
      "text/plain": [
       "['procedure infectious parasitic disease w procedure cirrhosis alcoholic hepatitis disorder liver disorder liver cirrhosis alcoholic hepatitis major stomach esophageal duodenal procedure stomach esophageal duodenal proc age w cc major gi dx infectious parasitic disease including hiv w procedure infectious parasitic disease w procedure malfunction reaction comp orthopedic device procedure aftercare musculoskeletal system connective tissue hip femur procedure trauma except joint replacement hip femur procedure except major joint age complication comorbidities respiratory malignancy respiratory neoplasm circulatory disorder acute myocardial infarction expired acute myocardial infarction poisoning toxic effect drug age complication comorbidities poisoning medicinal agent intracranial hemorrhage intracranial hemorrhage cerebral infarction respiratory system diagnosis ventilator support hour respiratory system diagnosis ventilator support hr multiple significant trauma multiple significant trauma procedure heart failure heart failure heart failure shock ecmo trach w mv hr pdx exc face mouth neck w maj tracheostomy w long term mechanical ventilation w extensive procedure tracheostomy w long term mechanical ventilation w extensive procedure pneumonia pneumonia respiratory system diagnosis w ventilator support hour pulmonary embolism pulmonary embolism pulmonary embolism w mcc cva precerebral occulusion infarct cva precerebral occulusion infarct intracranial hemorrhage cerebral infarction w mcc septicemia disseminated infection septicemia severe sepsis w mv hour septicemia disseminated infection endocrine disorder endocrine disorder endocrine disorder w mcc intestinal obstruction intestinal obstruction obstruction w mcc pneumonia pneumonia respiratory system diagnosis w ventilator support hour kidney urinary tract infection kidney urinary tract infection kidney urinary tract infection w mcc heart failure heart failure heart failure shock w mcc kidney urinary tract infection kidney urinary tract infection kidney urinary tract infection w mcc major esophageal disorder major esophageal disorder major esophageal disorder w mcc infectious parasitic disease including hiv w procedure infectious parasitic disease w procedure w mcc infectious parasitic disease including hiv w procedure digestive malignancy digestive malignancy digestive system procedure w mcc septicemia disseminated infection septicemia disseminated infection septicemia severe sepsis mv hour w mcc respiratory system diagnosis ventilator support hour respiratory system diagnosis ventilator support hour respiratory system diagnosis w ventilator support hour traumatic stupor coma coma hr w mcc head trauma coma hr hemorrhage head trauma coma hr hemorrhage procedure neoplasm procedure neoplasm lymphoma leukemia w major procedure w mcc disorder liver disorder liver cirrhosis alcoholic hepatitis w mcc tracheostomy w long term mechanical ventilation w extensive procedure tracheostomy w long term mechanical ventilation w extensive procedure trach w mv hr pdx exc face mouth neck maj heart failure shock w mcc heart failure heart failure pulmonary edema respiratory failure pulmonary edema respiratory failure pulmonary edema respiratory failure contusion open wound trauma skin subcutaneous tissue contusion open wound trauma skin subcutaneous tissue trauma skin subcut tiss breast w mcc septicemia severe sepsis mv hour w mcc septicemia disseminated infection septicemia disseminated infection major small large bowel procedure w mcc major small large bowel procedure major small large bowel procedure vascular procedure extensive procedure unrelated principal diagnosis w mcc circulatory system procedure major stomach esophageal duodenal procedure major stomach esophageal duodenal procedure stomach esophageal duodenal proc w mcc percutaneous cardiovascular procedure ami percutaneous cardiovascular procedure ami perc cardiovasc proc w stent w mcc kidney urinary tract procedure malignancy kidney urinary tract procedure malignancy kidney ureter procedure neoplasm w cc hip joint replacement hip joint replacement major joint replacement reattachment lower extremity mcc circulatory system procedure circulatory system procedure major cardiovasc procedure mcc respiratory system diagnosis ventilator support hour respiratory system diagnosis ventilator support hour respiratory system diagnosis w ventilator support hour procedure neoplasm procedure neoplasm lymphoma leukemia w proc w mcc septicemia disseminated infection septicemia disseminated infection septicemia severe sepsis mv hour w mcc acute myocardial infarction acute myocardial infarction acute myocardial infarction expired w mcc respiratory diagnosis except sign symptom minor diagnosis respiratory diagnosis except sign symptom minor diagnosis pleural effusion w cc head trauma coma hr hemorrhage head trauma coma hr hemorrhage traumatic stupor coma coma hr w cc disorder gallbladder biliary tract disorder gallbladder biliary tract disorder biliary tract w mcc chronic obstructive pulmonary disease chronic obstructive pulmonary disease chronic obstructive pulmonary disease w mcc major stomach esophageal duodenal procedure major stomach esophageal duodenal procedure stomach esophageal duodenal proc w mcc septicemia disseminated infection septicemia disseminated infection septicemia severe sepsis mv hour w mcc chronic obstructive pulmonary disease chronic obstructive pulmonary disease chronic obstructive pulmonary disease w cc acute myocardial infarction acute myocardial infarction acute myocardial infarction discharged alive w mcc back neck disorder fracture injury back neck disorder fracture injury medical back problem mcc coronary bypass cardiac cath percutaneous cardiac procedure coronary bypass cardiac cath percutaneous cardiac procedure coronary bypass cardiac cath mcc respiratory chest procedure respiratory chest procedure resp system procedure w cc renal failure renal failure renal failure w mcc hepatic coma major acute liver disorder hepatic coma major acute liver disorder disorder liver except malig cirr alc hepa w mcc circulatory system diagnosis circulatory system diagnosis circulatory system diagnosis w mcc cardiac arrhythmia conduction disorder cardiac arrhythmia conduction disorder cardiac arrhythmia conduction disorder w mcc cardiac catheterization circ disord exc ischemic heart disease cardiac catheterization circ disord exc ischemic heart disease circulatory disorder except ami w card cath mcc pneumonia pneumonia respiratory system diagnosis w ventilator support hour pulmonary edema respiratory failure pulmonary edema respiratory failure pulmonary edema respiratory failure percutaneous cardiovascular procedure ami percutaneous cardiovascular procedure ami perc cardiovasc proc w stent mcc hepatic coma major acute liver disorder hepatic coma major acute liver disorder disorder liver except malig cirr alc hepa w mcc respiratory system diagnosis ventilator support hour respiratory system diagnosis ventilator support hour respiratory system diagnosis w ventilator support hour lymphoma leukemia lymphoma leukemia lymphoma leukemia w mcc cva precerebral occulusion infarct cva precerebral occulusion infarct intracranial hemorrhage cerebral infarction w mcc disorder gallbladder biliary tract disorder gallbladder biliary tract disorder biliary tract w mcc trach w mv hr pdx exc face mouth neck maj tracheostomy w long term mechanical ventilation extensive procedure tracheostomy w long term mechanical ventilation extensive procedure pneumonia pneumonia simple pneumonia pleurisy w mcc septicemia disseminated infection septicemia disseminated infection septicemia severe sepsis mv hour w mcc infectious parasitic disease including hiv w procedure infectious parasitic disease including hiv w procedure infectious parasitic disease w procedure w mcc malfunction reaction complic genitourinary device proc malfunction reaction complic genitourinary device proc kidney urinary tract diagnosis w mcc septicemia disseminated infection septicemia disseminated infection septicemia severe sepsis mv hour w mcc septicemia disseminated infection septicemia disseminated infection septicemia severe sepsis mv hour w mcc septicemia disseminated infection septicemia disseminated infection septicemia severe sepsis mv hour w mcc septicemia disseminated infection septicemia disseminated infection septicemia severe sepsis mv hour w mcc malfunction reaction complication device procedure malfunction reaction complication device procedure digestive system diagnosis w cc septicemia severe sepsis mv hour w mcc septicemia disseminated infection septicemia disseminated infection septicemia disseminated infection septicemia disseminated infection septicemia severe sepsis mv hour w mcc']"
      ]
     },
     "execution_count": 61,
     "metadata": {},
     "output_type": "execute_result"
    }
   ],
   "source": [
    "# Ön işlenmiş token listelerini tekrar metne çeviriyoruz\n",
    "lemmatized_texts = [' '.join(tokens) for tokens in tokenized_corpus_lemmatized]\n",
    "\n",
    "lemmatized_texts[:3]"
   ]
  },
  {
   "cell_type": "code",
   "execution_count": 63,
   "id": "864c0ae8-74f3-40d6-b996-374247e7c9f5",
   "metadata": {},
   "outputs": [
    {
     "name": "stdout",
     "output_type": "stream",
     "text": [
      "      acute  aftercare       age     agent       alc  alcoholic     alive  \\\n",
      "0  0.090774   0.007564  0.022693  0.007564  0.015129   0.022693  0.007564   \n",
      "\n",
      "        ami  arrhythmia      back  ...     tract    trauma  traumatic  \\\n",
      "0  0.037822    0.022693  0.022693  ...  0.113467  0.075645   0.015129   \n",
      "\n",
      "   unrelated    ureter  urinary  vascular  ventilation  ventilator     wound  \n",
      "0   0.007564  0.007564  0.06808  0.007564     0.045387    0.105903  0.015129  \n",
      "\n",
      "[1 rows x 170 columns]\n"
     ]
    }
   ],
   "source": [
    "# TF-IDF vektörizerı başlatıyoruz\n",
    "vectorizer = TfidfVectorizer()\n",
    "\n",
    "# TF-IDF matrisini oluşturuyoruz\n",
    "#terim frekansları, belge frekanslarıni hesplar\n",
    "#TF-IDF vektörlerine dönüştürür\n",
    "tfidf_matrix = vectorizer.fit_transform(lemmatized_texts)\n",
    "\n",
    "## Kelimeleri alalım\n",
    "#F-IDF vektörleştirme işleminde kullanılan tüm kelimelerin essiz bir listesini döndürur\n",
    "feature_names = vectorizer.get_feature_names_out()\n",
    "\n",
    "# TF-IDF matrisini pandas DataFrame'e çevir-gorunurluk acisindan- calismasi kolay\n",
    "tfidf_df = pd.DataFrame(tfidf_matrix.toarray(), columns=feature_names)\n",
    "\n",
    "# İlk birkaç satırı gösterelim-ilk 5 cümle\n",
    "print(tfidf_df.head())\n",
    "\n",
    "#Her satır bir cümleyi temsil eder\n",
    "#Her sütun bir kelimeyi temsil eder\n",
    "#Hücreler ise o kelimenin o cümledeki TF-IDF skorudur - her cumle icin degisir-bakiniz:slaytlar"
   ]
  },
  {
   "cell_type": "code",
   "execution_count": 65,
   "id": "9feeaa78-1d03-44a8-89b4-09c3c3168fc1",
   "metadata": {},
   "outputs": [],
   "source": [
    "tfidf_df.to_csv('tfidf_lemmatized1.csv', index=False)"
   ]
  },
  {
   "cell_type": "code",
   "execution_count": 67,
   "id": "2767171f-0489-4308-8afb-489752044460",
   "metadata": {},
   "outputs": [
    {
     "name": "stdout",
     "output_type": "stream",
     "text": [
      "İlk cümlede en yüksek TF-IDF skoruna sahip 5 kelime:\n",
      "procedure       0.408482\n",
      "mcc             0.400917\n",
      "septicemia      0.272321\n",
      "infection       0.226934\n",
      "disorder        0.219370\n",
      "respiratory     0.196676\n",
      "hour            0.189112\n",
      "system          0.181547\n",
      "disseminated    0.181547\n",
      "diagnosis       0.181547\n",
      "major           0.151290\n",
      "failure         0.136161\n",
      "disease         0.128596\n",
      "pulmonary       0.113467\n",
      "mv              0.113467\n",
      "Name: 0, dtype: float64\n"
     ]
    }
   ],
   "source": [
    "# İlk cümle için TF-IDF skorlarını al\n",
    "first_sentence_vector = tfidf_df.iloc[0]\n",
    "\n",
    "# Skorlara göre sırala (yüksekten düşüğe)\n",
    "top_5_words = first_sentence_vector.sort_values(ascending=False).head(15)\n",
    "\n",
    "# Sonucu yazdır\n",
    "print(\"İlk cümlede en yüksek TF-IDF skoruna sahip 5 kelime:\")\n",
    "print(top_5_words)"
   ]
  },
  {
   "cell_type": "code",
   "execution_count": 69,
   "id": "3486fe12-6f13-44b1-98a4-c39faca6141e",
   "metadata": {},
   "outputs": [],
   "source": [
    "from sklearn.metrics.pairwise import cosine_similarity"
   ]
  },
  {
   "cell_type": "code",
   "execution_count": 71,
   "id": "f72e2d90-2c27-4076-9074-85deecfb6eed",
   "metadata": {},
   "outputs": [
    {
     "name": "stdout",
     "output_type": "stream",
     "text": [
      "wound: 1.0000\n",
      "embolism: 1.0000\n",
      "face: 1.0000\n",
      "extremity: 1.0000\n",
      "extensive: 1.0000\n",
      "expired: 1.0000\n"
     ]
    }
   ],
   "source": [
    "# oda kelimesinin vektörünü alalım\n",
    "heart_index = feature_names.tolist().index('heart')  # 'room' kelimesinin indeksini bul\n",
    "\n",
    "# heart kelimesinin TF-IDF vektörünü alıyoruz ve 2D formatta yapıyoruz\n",
    "heart_vector = tfidf_matrix[:, heart_index].toarray()\n",
    "\n",
    "# Tüm kelimelerin TF-IDF vektörlerini alıyoruz\n",
    "tfidf_vectors = tfidf_matrix.toarray()\n",
    "\n",
    "# Cosine similarity hesaplayalım\n",
    "similarities = cosine_similarity(heart_vector.T, tfidf_vectors.T)\n",
    "\n",
    "# Benzerlikleri sıralayalım ve en yüksek 5 kelimeyi seçelim\n",
    "similarities = similarities.flatten()\n",
    "top_5_indices = similarities.argsort()[-6:][::-1]  # 6. en büyükten başlıyoruz çünkü kendisi de dahil\n",
    "\n",
    "# Sonuçları yazdıralım\n",
    "for index in top_5_indices:\n",
    "    print(f\"{feature_names[index]}: {similarities[index]:.4f}\")"
   ]
  },
  {
   "cell_type": "code",
   "execution_count": null,
   "id": "c2e03a61-f52f-423c-a4e5-e53a71483fa8",
   "metadata": {},
   "outputs": [],
   "source": []
  }
 ],
 "metadata": {
  "kernelspec": {
   "display_name": "Python [conda env:base] *",
   "language": "python",
   "name": "conda-base-py"
  },
  "language_info": {
   "codemirror_mode": {
    "name": "ipython",
    "version": 3
   },
   "file_extension": ".py",
   "mimetype": "text/x-python",
   "name": "python",
   "nbconvert_exporter": "python",
   "pygments_lexer": "ipython3",
   "version": "3.12.7"
  }
 },
 "nbformat": 4,
 "nbformat_minor": 5
}
