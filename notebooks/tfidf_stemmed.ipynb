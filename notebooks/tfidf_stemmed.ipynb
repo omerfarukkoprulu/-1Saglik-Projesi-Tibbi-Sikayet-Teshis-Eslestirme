{
 "cells": [
  {
   "cell_type": "code",
   "execution_count": 1,
   "id": "b55a1a39-1f2c-4e1c-9bfa-449a9becacf8",
   "metadata": {},
   "outputs": [],
   "source": [
    "import nltk\n",
    "from nltk.tokenize import word_tokenize, sent_tokenize\n",
    "from nltk.corpus import stopwords\n",
    "from nltk.stem import WordNetLemmatizer, PorterStemmer\n",
    "import pandas as pd\n",
    "import numpy as np\n",
    "from sklearn.feature_extraction.text import TfidfVectorizer\n",
    "from sklearn.metrics.pairwise import cosine_similarity\n",
    "from nltk.stem import WordNetLemmatizer, PorterStemmer\n",
    "from nltk.tokenize import word_tokenize"
   ]
  },
  {
   "cell_type": "code",
   "execution_count": 3,
   "id": "41b25ee3-8b54-4b65-8c01-471562ec594e",
   "metadata": {},
   "outputs": [
    {
     "name": "stderr",
     "output_type": "stream",
     "text": [
      "[nltk_data] Downloading package punkt to\n",
      "[nltk_data]     C:\\Users\\eren\\AppData\\Roaming\\nltk_data...\n",
      "[nltk_data]   Package punkt is already up-to-date!\n",
      "[nltk_data] Downloading package stopwords to\n",
      "[nltk_data]     C:\\Users\\eren\\AppData\\Roaming\\nltk_data...\n",
      "[nltk_data]   Package stopwords is already up-to-date!\n",
      "[nltk_data] Downloading package wordnet to\n",
      "[nltk_data]     C:\\Users\\eren\\AppData\\Roaming\\nltk_data...\n",
      "[nltk_data]   Package wordnet is already up-to-date!\n"
     ]
    },
    {
     "data": {
      "text/plain": [
       "True"
      ]
     },
     "execution_count": 3,
     "metadata": {},
     "output_type": "execute_result"
    }
   ],
   "source": [
    "import nltk\n",
    "nltk.download('punkt')\n",
    "nltk.download('stopwords')\n",
    "nltk.download('wordnet')"
   ]
  },
  {
   "cell_type": "code",
   "execution_count": 5,
   "id": "2195ae63-5a05-49ab-8bd8-0334dc3e704c",
   "metadata": {},
   "outputs": [],
   "source": [
    "df= pd.read_csv(\"stemmed_sentences.csv\")"
   ]
  },
  {
   "cell_type": "code",
   "execution_count": 7,
   "id": "fac795c0-6170-495d-a982-2b02e58b487e",
   "metadata": {},
   "outputs": [
    {
     "data": {
      "text/html": [
       "<div>\n",
       "<style scoped>\n",
       "    .dataframe tbody tr th:only-of-type {\n",
       "        vertical-align: middle;\n",
       "    }\n",
       "\n",
       "    .dataframe tbody tr th {\n",
       "        vertical-align: top;\n",
       "    }\n",
       "\n",
       "    .dataframe thead th {\n",
       "        text-align: right;\n",
       "    }\n",
       "</style>\n",
       "<table border=\"1\" class=\"dataframe\">\n",
       "  <thead>\n",
       "    <tr style=\"text-align: right;\">\n",
       "      <th></th>\n",
       "      <th>major small larg bowel procedur with complic comorbid percutan cardiovascular procedur without acut myocardi infarct without coronari arteri stent implant dental oral di except extract restor age craniotomi age except for trauma disord of liver except malign cirrhosi alcohol hepat with complic comorbid seizur headach age with complic comorbid cardiac arrhythmia conduct disord with complic comorbid extracrani vascular procedur perman cardiac pacemak implant with acut myocardi infarct heart failur or shock or aicd lead or gener proc septicemia age simpl pneumonia pleurisi age with complic comorbid coronari bypass without cardiac cathet lower extrem humeru procedur except hip foot femur age complic comorbid circulatori disord with acut myocardi infarct major complic discharg aliv nervou system neoplasm with complic comorbid nervou system infect except viral mening kidney urinari tract infect age with complic comorbid septicemia age respiratori infect inflamm age with complic comorbid extens oper room procedur unrel to princip diagnosi septicemia age respiratori system diagnosi with ventil support percutan cardiovascular procedur with stent without acut myocardi infarct circulatori disord with acut myocardi infarct major complic discharg aliv septicemia age septicemia age liver transplant ecmo or tracheostomi with mechan ventil hour or princip diagnos except face mouth and neck diagnos with major oper room procedur septicemia age lymphoma leukemia with complic comorbid respiratori system diagnosi with ventil support septicemia age craniotomi for trauma craniotomi age with complic comorbid peptic ulcer gastriti gastrointestin hemorrhag with complic comorbid cholecystectomi with common duct explor with complic comorbid other oper room procedur for multipl signific trauma intracrani hemorrhag or cerebr infarct extens procedur unrel to princip diagnosi extens oper room procedur unrel to princip diagnosi septicemia dissemin infect septicemia age other endocrin disord endocrin disord with complic comorbid shoulder upper arm forearm procedur major joint limb reattach procedur of upper extrem cardiac valv procedur cardiac catheter cardiac valv other major cardiothorac proc without cardiac cathet ecmo or tracheostomi with mechan ventil hour or princip diagnos except face mouth and neck diagnos with major oper room procedur musculoskelet other procedur for multipl signific trauma other endocrin disord endocrin disord with complic comorbid connect tissu disord connect tissu disord with complic comorbid infecti parasit diseas includ hiv w</th>\n",
       "    </tr>\n",
       "  </thead>\n",
       "  <tbody>\n",
       "    <tr>\n",
       "      <th>0</th>\n",
       "      <td>procedur infecti parasit diseas w or procedur ...</td>\n",
       "    </tr>\n",
       "    <tr>\n",
       "      <th>1</th>\n",
       "      <td>procedur infecti parasit diseas w or procedur ...</td>\n",
       "    </tr>\n",
       "    <tr>\n",
       "      <th>2</th>\n",
       "      <td>procedur heart failur heart failur heart failu...</td>\n",
       "    </tr>\n",
       "    <tr>\n",
       "      <th>3</th>\n",
       "      <td>tracheostomi w long term mechan ventil w exten...</td>\n",
       "    </tr>\n",
       "    <tr>\n",
       "      <th>4</th>\n",
       "      <td>obstruct w mcc other pneumonia other pneumonia...</td>\n",
       "    </tr>\n",
       "    <tr>\n",
       "      <th>5</th>\n",
       "      <td>procedur infecti parasit diseas w</td>\n",
       "    </tr>\n",
       "    <tr>\n",
       "      <th>6</th>\n",
       "      <td>procedur w mcc infecti parasit diseas includ h...</td>\n",
       "    </tr>\n",
       "    <tr>\n",
       "      <th>7</th>\n",
       "      <td>procedur digest malign digest malign other dig...</td>\n",
       "    </tr>\n",
       "    <tr>\n",
       "      <th>8</th>\n",
       "      <td>procedur w mcc septicemia dissemin infect sept...</td>\n",
       "    </tr>\n",
       "    <tr>\n",
       "      <th>9</th>\n",
       "      <td>procedur for neoplasm other</td>\n",
       "    </tr>\n",
       "    <tr>\n",
       "      <th>10</th>\n",
       "      <td>procedur for neoplasm lymphoma leukemia w major</td>\n",
       "    </tr>\n",
       "    <tr>\n",
       "      <th>11</th>\n",
       "      <td>procedur w mcc other disord of the liver other...</td>\n",
       "    </tr>\n",
       "    <tr>\n",
       "      <th>12</th>\n",
       "      <td>heart failur shock w mcc heart failur heart fa...</td>\n",
       "    </tr>\n",
       "    <tr>\n",
       "      <th>13</th>\n",
       "      <td>procedur unrel to princip diagnosi w mcc other...</td>\n",
       "    </tr>\n",
       "    <tr>\n",
       "      <th>14</th>\n",
       "      <td>procedur for neoplasm other</td>\n",
       "    </tr>\n",
       "    <tr>\n",
       "      <th>15</th>\n",
       "      <td>procedur for neoplasm lymphoma leukemia w other</td>\n",
       "    </tr>\n",
       "    <tr>\n",
       "      <th>16</th>\n",
       "      <td>proc w mcc septicemia dissemin infect septicem...</td>\n",
       "    </tr>\n",
       "    <tr>\n",
       "      <th>17</th>\n",
       "      <td>procedur w cc renal failur renal failur renal ...</td>\n",
       "    </tr>\n",
       "    <tr>\n",
       "      <th>18</th>\n",
       "      <td>tracheostomi w long term mechan ventil extens ...</td>\n",
       "    </tr>\n",
       "    <tr>\n",
       "      <th>19</th>\n",
       "      <td>procedur infecti parasit diseas includ hiv w</td>\n",
       "    </tr>\n",
       "    <tr>\n",
       "      <th>20</th>\n",
       "      <td>procedur infecti parasit diseas w</td>\n",
       "    </tr>\n",
       "    <tr>\n",
       "      <th>21</th>\n",
       "      <td>procedur w mcc malfunct reaction complic of ge...</td>\n",
       "    </tr>\n",
       "    <tr>\n",
       "      <th>22</th>\n",
       "      <td>devic or procedur malfunct reaction complic of</td>\n",
       "    </tr>\n",
       "    <tr>\n",
       "      <th>23</th>\n",
       "      <td>devic or procedur other digest system diagnos ...</td>\n",
       "    </tr>\n",
       "  </tbody>\n",
       "</table>\n",
       "</div>"
      ],
      "text/plain": [
       "   major small larg bowel procedur with complic comorbid percutan cardiovascular procedur without acut myocardi infarct without coronari arteri stent implant dental oral di except extract restor age craniotomi age except for trauma disord of liver except malign cirrhosi alcohol hepat with complic comorbid seizur headach age with complic comorbid cardiac arrhythmia conduct disord with complic comorbid extracrani vascular procedur perman cardiac pacemak implant with acut myocardi infarct heart failur or shock or aicd lead or gener proc septicemia age simpl pneumonia pleurisi age with complic comorbid coronari bypass without cardiac cathet lower extrem humeru procedur except hip foot femur age complic comorbid circulatori disord with acut myocardi infarct major complic discharg aliv nervou system neoplasm with complic comorbid nervou system infect except viral mening kidney urinari tract infect age with complic comorbid septicemia age respiratori infect inflamm age with complic comorbid extens oper room procedur unrel to princip diagnosi septicemia age respiratori system diagnosi with ventil support percutan cardiovascular procedur with stent without acut myocardi infarct circulatori disord with acut myocardi infarct major complic discharg aliv septicemia age septicemia age liver transplant ecmo or tracheostomi with mechan ventil hour or princip diagnos except face mouth and neck diagnos with major oper room procedur septicemia age lymphoma leukemia with complic comorbid respiratori system diagnosi with ventil support septicemia age craniotomi for trauma craniotomi age with complic comorbid peptic ulcer gastriti gastrointestin hemorrhag with complic comorbid cholecystectomi with common duct explor with complic comorbid other oper room procedur for multipl signific trauma intracrani hemorrhag or cerebr infarct extens procedur unrel to princip diagnosi extens oper room procedur unrel to princip diagnosi septicemia dissemin infect septicemia age other endocrin disord endocrin disord with complic comorbid shoulder upper arm forearm procedur major joint limb reattach procedur of upper extrem cardiac valv procedur cardiac catheter cardiac valv other major cardiothorac proc without cardiac cathet ecmo or tracheostomi with mechan ventil hour or princip diagnos except face mouth and neck diagnos with major oper room procedur musculoskelet other procedur for multipl signific trauma other endocrin disord endocrin disord with complic comorbid connect tissu disord connect tissu disord with complic comorbid infecti parasit diseas includ hiv w\n",
       "0   procedur infecti parasit diseas w or procedur ...                                                                                                                                                                                                                                                                                                                                                                                                                                                                                                                                                                                                                                                                                                                                                                                                                                                                                                                                                                                                                                                                                                                                                                                                                                                                                                                                                                                                                                                                                                                                                                                                                                                                                                                                                                                                                                                                                                                                                                                                                                                                                                                                                                                                                                                                                                                                                                                                                                                                                                                                                                                                                      \n",
       "1   procedur infecti parasit diseas w or procedur ...                                                                                                                                                                                                                                                                                                                                                                                                                                                                                                                                                                                                                                                                                                                                                                                                                                                                                                                                                                                                                                                                                                                                                                                                                                                                                                                                                                                                                                                                                                                                                                                                                                                                                                                                                                                                                                                                                                                                                                                                                                                                                                                                                                                                                                                                                                                                                                                                                                                                                                                                                                                                                      \n",
       "2   procedur heart failur heart failur heart failu...                                                                                                                                                                                                                                                                                                                                                                                                                                                                                                                                                                                                                                                                                                                                                                                                                                                                                                                                                                                                                                                                                                                                                                                                                                                                                                                                                                                                                                                                                                                                                                                                                                                                                                                                                                                                                                                                                                                                                                                                                                                                                                                                                                                                                                                                                                                                                                                                                                                                                                                                                                                                                      \n",
       "3   tracheostomi w long term mechan ventil w exten...                                                                                                                                                                                                                                                                                                                                                                                                                                                                                                                                                                                                                                                                                                                                                                                                                                                                                                                                                                                                                                                                                                                                                                                                                                                                                                                                                                                                                                                                                                                                                                                                                                                                                                                                                                                                                                                                                                                                                                                                                                                                                                                                                                                                                                                                                                                                                                                                                                                                                                                                                                                                                      \n",
       "4   obstruct w mcc other pneumonia other pneumonia...                                                                                                                                                                                                                                                                                                                                                                                                                                                                                                                                                                                                                                                                                                                                                                                                                                                                                                                                                                                                                                                                                                                                                                                                                                                                                                                                                                                                                                                                                                                                                                                                                                                                                                                                                                                                                                                                                                                                                                                                                                                                                                                                                                                                                                                                                                                                                                                                                                                                                                                                                                                                                      \n",
       "5                   procedur infecti parasit diseas w                                                                                                                                                                                                                                                                                                                                                                                                                                                                                                                                                                                                                                                                                                                                                                                                                                                                                                                                                                                                                                                                                                                                                                                                                                                                                                                                                                                                                                                                                                                                                                                                                                                                                                                                                                                                                                                                                                                                                                                                                                                                                                                                                                                                                                                                                                                                                                                                                                                                                                                                                                                                                      \n",
       "6   procedur w mcc infecti parasit diseas includ h...                                                                                                                                                                                                                                                                                                                                                                                                                                                                                                                                                                                                                                                                                                                                                                                                                                                                                                                                                                                                                                                                                                                                                                                                                                                                                                                                                                                                                                                                                                                                                                                                                                                                                                                                                                                                                                                                                                                                                                                                                                                                                                                                                                                                                                                                                                                                                                                                                                                                                                                                                                                                                      \n",
       "7   procedur digest malign digest malign other dig...                                                                                                                                                                                                                                                                                                                                                                                                                                                                                                                                                                                                                                                                                                                                                                                                                                                                                                                                                                                                                                                                                                                                                                                                                                                                                                                                                                                                                                                                                                                                                                                                                                                                                                                                                                                                                                                                                                                                                                                                                                                                                                                                                                                                                                                                                                                                                                                                                                                                                                                                                                                                                      \n",
       "8   procedur w mcc septicemia dissemin infect sept...                                                                                                                                                                                                                                                                                                                                                                                                                                                                                                                                                                                                                                                                                                                                                                                                                                                                                                                                                                                                                                                                                                                                                                                                                                                                                                                                                                                                                                                                                                                                                                                                                                                                                                                                                                                                                                                                                                                                                                                                                                                                                                                                                                                                                                                                                                                                                                                                                                                                                                                                                                                                                      \n",
       "9                         procedur for neoplasm other                                                                                                                                                                                                                                                                                                                                                                                                                                                                                                                                                                                                                                                                                                                                                                                                                                                                                                                                                                                                                                                                                                                                                                                                                                                                                                                                                                                                                                                                                                                                                                                                                                                                                                                                                                                                                                                                                                                                                                                                                                                                                                                                                                                                                                                                                                                                                                                                                                                                                                                                                                                                                      \n",
       "10    procedur for neoplasm lymphoma leukemia w major                                                                                                                                                                                                                                                                                                                                                                                                                                                                                                                                                                                                                                                                                                                                                                                                                                                                                                                                                                                                                                                                                                                                                                                                                                                                                                                                                                                                                                                                                                                                                                                                                                                                                                                                                                                                                                                                                                                                                                                                                                                                                                                                                                                                                                                                                                                                                                                                                                                                                                                                                                                                                      \n",
       "11  procedur w mcc other disord of the liver other...                                                                                                                                                                                                                                                                                                                                                                                                                                                                                                                                                                                                                                                                                                                                                                                                                                                                                                                                                                                                                                                                                                                                                                                                                                                                                                                                                                                                                                                                                                                                                                                                                                                                                                                                                                                                                                                                                                                                                                                                                                                                                                                                                                                                                                                                                                                                                                                                                                                                                                                                                                                                                      \n",
       "12  heart failur shock w mcc heart failur heart fa...                                                                                                                                                                                                                                                                                                                                                                                                                                                                                                                                                                                                                                                                                                                                                                                                                                                                                                                                                                                                                                                                                                                                                                                                                                                                                                                                                                                                                                                                                                                                                                                                                                                                                                                                                                                                                                                                                                                                                                                                                                                                                                                                                                                                                                                                                                                                                                                                                                                                                                                                                                                                                      \n",
       "13  procedur unrel to princip diagnosi w mcc other...                                                                                                                                                                                                                                                                                                                                                                                                                                                                                                                                                                                                                                                                                                                                                                                                                                                                                                                                                                                                                                                                                                                                                                                                                                                                                                                                                                                                                                                                                                                                                                                                                                                                                                                                                                                                                                                                                                                                                                                                                                                                                                                                                                                                                                                                                                                                                                                                                                                                                                                                                                                                                      \n",
       "14                        procedur for neoplasm other                                                                                                                                                                                                                                                                                                                                                                                                                                                                                                                                                                                                                                                                                                                                                                                                                                                                                                                                                                                                                                                                                                                                                                                                                                                                                                                                                                                                                                                                                                                                                                                                                                                                                                                                                                                                                                                                                                                                                                                                                                                                                                                                                                                                                                                                                                                                                                                                                                                                                                                                                                                                                      \n",
       "15    procedur for neoplasm lymphoma leukemia w other                                                                                                                                                                                                                                                                                                                                                                                                                                                                                                                                                                                                                                                                                                                                                                                                                                                                                                                                                                                                                                                                                                                                                                                                                                                                                                                                                                                                                                                                                                                                                                                                                                                                                                                                                                                                                                                                                                                                                                                                                                                                                                                                                                                                                                                                                                                                                                                                                                                                                                                                                                                                                      \n",
       "16  proc w mcc septicemia dissemin infect septicem...                                                                                                                                                                                                                                                                                                                                                                                                                                                                                                                                                                                                                                                                                                                                                                                                                                                                                                                                                                                                                                                                                                                                                                                                                                                                                                                                                                                                                                                                                                                                                                                                                                                                                                                                                                                                                                                                                                                                                                                                                                                                                                                                                                                                                                                                                                                                                                                                                                                                                                                                                                                                                      \n",
       "17  procedur w cc renal failur renal failur renal ...                                                                                                                                                                                                                                                                                                                                                                                                                                                                                                                                                                                                                                                                                                                                                                                                                                                                                                                                                                                                                                                                                                                                                                                                                                                                                                                                                                                                                                                                                                                                                                                                                                                                                                                                                                                                                                                                                                                                                                                                                                                                                                                                                                                                                                                                                                                                                                                                                                                                                                                                                                                                                      \n",
       "18  tracheostomi w long term mechan ventil extens ...                                                                                                                                                                                                                                                                                                                                                                                                                                                                                                                                                                                                                                                                                                                                                                                                                                                                                                                                                                                                                                                                                                                                                                                                                                                                                                                                                                                                                                                                                                                                                                                                                                                                                                                                                                                                                                                                                                                                                                                                                                                                                                                                                                                                                                                                                                                                                                                                                                                                                                                                                                                                                      \n",
       "19       procedur infecti parasit diseas includ hiv w                                                                                                                                                                                                                                                                                                                                                                                                                                                                                                                                                                                                                                                                                                                                                                                                                                                                                                                                                                                                                                                                                                                                                                                                                                                                                                                                                                                                                                                                                                                                                                                                                                                                                                                                                                                                                                                                                                                                                                                                                                                                                                                                                                                                                                                                                                                                                                                                                                                                                                                                                                                                                      \n",
       "20                  procedur infecti parasit diseas w                                                                                                                                                                                                                                                                                                                                                                                                                                                                                                                                                                                                                                                                                                                                                                                                                                                                                                                                                                                                                                                                                                                                                                                                                                                                                                                                                                                                                                                                                                                                                                                                                                                                                                                                                                                                                                                                                                                                                                                                                                                                                                                                                                                                                                                                                                                                                                                                                                                                                                                                                                                                                      \n",
       "21  procedur w mcc malfunct reaction complic of ge...                                                                                                                                                                                                                                                                                                                                                                                                                                                                                                                                                                                                                                                                                                                                                                                                                                                                                                                                                                                                                                                                                                                                                                                                                                                                                                                                                                                                                                                                                                                                                                                                                                                                                                                                                                                                                                                                                                                                                                                                                                                                                                                                                                                                                                                                                                                                                                                                                                                                                                                                                                                                                      \n",
       "22     devic or procedur malfunct reaction complic of                                                                                                                                                                                                                                                                                                                                                                                                                                                                                                                                                                                                                                                                                                                                                                                                                                                                                                                                                                                                                                                                                                                                                                                                                                                                                                                                                                                                                                                                                                                                                                                                                                                                                                                                                                                                                                                                                                                                                                                                                                                                                                                                                                                                                                                                                                                                                                                                                                                                                                                                                                                                                      \n",
       "23  devic or procedur other digest system diagnos ...                                                                                                                                                                                                                                                                                                                                                                                                                                                                                                                                                                                                                                                                                                                                                                                                                                                                                                                                                                                                                                                                                                                                                                                                                                                                                                                                                                                                                                                                                                                                                                                                                                                                                                                                                                                                                                                                                                                                                                                                                                                                                                                                                                                                                                                                                                                                                                                                                                                                                                                                                                                                                      "
      ]
     },
     "execution_count": 7,
     "metadata": {},
     "output_type": "execute_result"
    }
   ],
   "source": [
    "df"
   ]
  },
  {
   "cell_type": "code",
   "execution_count": 9,
   "id": "f01928ed-02ea-4c4d-aa8d-790f7fc9563b",
   "metadata": {},
   "outputs": [
    {
     "name": "stdout",
     "output_type": "stream",
     "text": [
      "                                                   0\n",
      "0  procedur infecti parasit diseas w or procedur ...\n",
      "1  procedur infecti parasit diseas w or procedur ...\n",
      "2  procedur heart failur heart failur heart failu...\n",
      "3  tracheostomi w long term mechan ventil w exten...\n",
      "4  obstruct w mcc other pneumonia other pneumonia...\n"
     ]
    }
   ],
   "source": [
    "df.columns = [\"0\"]\n",
    "\n",
    "# NaN değerleri ve boş stringleri temizle\n",
    "df = df.dropna()\n",
    "df = df[df[\"0\"].str.strip() != \"\"]\n",
    "\n",
    "# Temizlenmiş ilk 5 cümleyi göster\n",
    "print(df.head())"
   ]
  },
  {
   "cell_type": "code",
   "execution_count": 11,
   "id": "78a5e985-550f-4939-a20c-9b78eb490814",
   "metadata": {},
   "outputs": [],
   "source": [
    "#Varsayalım ki DataFrame'iniz df ve yorumlar '0' sütununda\n",
    "text = ' '.join(df['0'].astype(str).tolist())  # Tüm yorumları tek bir metin haline getir\n",
    "sentences = sent_tokenize(text)  # Metni cümlelere ay"
   ]
  },
  {
   "cell_type": "code",
   "execution_count": 15,
   "id": "fa755feb-e0f3-4fed-92fc-ddba2caaf049",
   "metadata": {},
   "outputs": [],
   "source": [
    "stop_words = set(stopwords.words('english'))"
   ]
  },
  {
   "cell_type": "code",
   "execution_count": 17,
   "id": "c804d949-a020-4802-900b-3616d825ff39",
   "metadata": {},
   "outputs": [],
   "source": [
    "from nltk.stem import WordNetLemmatizer, PorterStemmer\n",
    "from nltk.tokenize import word_tokenize\n",
    "\n",
    "# Lemmatizer ve Stemmer nesnelerini oluştur\n",
    "lemmatizer = WordNetLemmatizer()\n",
    "stemmer = PorterStemmer()\n",
    "# Kelimeleri tokenleştirip, lemmatize etme ve stemleme\n",
    "def preprocess_sentence(sentence):\n",
    "    tokens = word_tokenize(sentence)\n",
    "    filtered_tokens = [token.lower() for token in tokens if token.isalpha() and token.lower() not in stop_words]\n",
    "    lemmatized_tokens = [lemmatizer.lemmatize(token) for token in filtered_tokens]\n",
    "    stemmed_tokens = [stemmer.stem(token) for token in filtered_tokens]\n",
    "    return lemmatized_tokens, stemmed_tokens\n",
    "\n",
    "# Kullanım örneği\n",
    "tokenized_corpus_lemmatized = []\n",
    "tokenized_corpus_stemmed = []\n",
    "\n",
    "for sentence in sentences:\n",
    "    lemmatized_tokens, stemmed_tokens = preprocess_sentence(sentence)\n",
    "    tokenized_corpus_lemmatized.append(lemmatized_tokens)\n",
    "    tokenized_corpus_stemmed.append(stemmed_tokens)"
   ]
  },
  {
   "cell_type": "code",
   "execution_count": 19,
   "id": "3b427e91-3334-45d0-83d9-f5855c25c187",
   "metadata": {},
   "outputs": [],
   "source": [
    "from sklearn.feature_extraction.text import TfidfVectorizer"
   ]
  },
  {
   "cell_type": "code",
   "execution_count": 21,
   "id": "f85dfa66-9409-47ce-b909-5ac8dcf10df7",
   "metadata": {},
   "outputs": [
    {
     "data": {
      "text/plain": [
       "['procedur infecti parasit diseas w procedur cirrhosi alcohol hepat disord liver disord liver cirrhosi alcohol hepat major stomach esophag duoden procedur stomach esophag duoden proc age w cc major gi dx infecti parasit diseas includ hiv w procedur infecti parasit diseas w procedur malfunct reaction comp orthoped devic procedur aftercar musculoskelet system connect tissu hip femur procedur trauma except joint replac hip femur procedur except major joint age complic comorbid respiratori malign respiratori neoplasm circulatori disord acut myocardi infarct expir acut myocardi infarct poison toxic effect drug age complic comorbid poison medicin agent intracrani hemorrhag intracrani hemorrhag cerebr infarct respiratori system diagnosi ventil support hour respiratori system diagnosi ventil support hr multipl signific trauma multipl signific trauma procedur heart failur heart failur heart failur shock ecmo trach w mv hr pdx exc face mouth neck w maj tracheostomi w long term mechan ventil w extens procedur tracheostomi w long term mechan ventil w extens procedur pneumonia pneumonia respiratori system diagnosi w ventil support hour pulmonari embol pulmonari embol pulmonari embol w mcc cva precerebr occulus infarct cva precerebr occulus infarct intracrani hemorrhag cerebr infarct w mcc septicemia dissemin infect septicemia sever sepsi w mv hour septicemia dissemin infect endocrin disord endocrin disord endocrin disord w mcc intestin obstruct intestin obstruct obstruct w mcc pneumonia pneumonia respiratori system diagnosi w ventil support hour kidney urinari tract infect kidney urinari tract infect kidney urinari tract infect w mcc heart failur heart failur heart failur shock w mcc kidney urinari tract infect kidney urinari tract infect kidney urinari tract infect w mcc major esophag disord major esophag disord major esophag disord w mcc infecti parasit diseas includ hiv w procedur infecti parasit diseas w procedur w mcc infecti parasit diseas includ hiv w procedur digest malign digest malign digest system procedur w mcc septicemia dissemin infect septicemia dissemin infect septicemia sever sepsi mv hour w mcc respiratori system diagnosi ventil support hour respiratori system diagnosi ventil support hour respiratori system diagnosi w ventil support hour traumat stupor coma coma hr w mcc head trauma coma hr hemorrhag head trauma coma hr hemorrhag procedur neoplasm procedur neoplasm lymphoma leukemia w major procedur w mcc disord liver disord liver cirrhosi alcohol hepat w mcc tracheostomi w long term mechan ventil w extens procedur tracheostomi w long term mechan ventil w extens procedur trach w mv hr pdx exc face mouth neck maj heart failur shock w mcc heart failur heart failur pulmonari edema respiratori failur pulmonari edema respiratori failur pulmonari edema respiratori failur contus open wound trauma skin subcutan tissu contus open wound trauma skin subcutan tissu trauma skin subcut tiss breast w mcc septicemia sever sepsi mv hour w mcc septicemia dissemin infect septicemia dissemin infect major small larg bowel procedur w mcc major small larg bowel procedur major small larg bowel procedur vascular procedur extens procedur unrel princip diagnosi w mcc circulatori system procedur major stomach esophag duoden procedur major stomach esophag duoden procedur stomach esophag duoden proc w mcc percutan cardiovascular procedur ami percutan cardiovascular procedur ami perc cardiovasc proc w stent w mcc kidney urinari tract procedur malign kidney urinari tract procedur malign kidney uret procedur neoplasm w cc hip joint replac hip joint replac major joint replac reattach lower extrem mcc circulatori system procedur circulatori system procedur major cardiovasc procedur mcc respiratori system diagnosi ventil support hour respiratori system diagnosi ventil support hour respiratori system diagnosi w ventil support hour procedur neoplasm procedur neoplasm lymphoma leukemia w proc w mcc septicemia dissemin infect septicemia dissemin infect septicemia sever sepsi mv hour w mcc acut myocardi infarct acut myocardi infarct acut myocardi infarct expir w mcc respiratori diagnosi except sign symptom minor diagnos respiratori diagnosi except sign symptom minor diagnos pleural effus w cc head trauma coma hr hemorrhag head trauma coma hr hemorrhag traumat stupor coma coma hr w cc disord gallbladd biliari tract disord gallbladd biliari tract disord biliari tract w mcc chronic obstruct pulmonari diseas chronic obstruct pulmonari diseas chronic obstruct pulmonari diseas w mcc major stomach esophag duoden procedur major stomach esophag duoden procedur stomach esophag duoden proc w mcc septicemia dissemin infect septicemia dissemin infect septicemia sever sepsi mv hour w mcc chronic obstruct pulmonari diseas chronic obstruct pulmonari diseas chronic obstruct pulmonari diseas w cc acut myocardi infarct acut myocardi infarct acut myocardi infarct discharg aliv w mcc back neck disord fractur injuri back neck disord fractur injuri medic back problem mcc coronari bypass cardiac cath percutan cardiac procedur coronari bypass cardiac cath percutan cardiac procedur coronari bypass cardiac cath mcc respiratori chest procedur respiratori chest procedur resp system procedur w cc renal failur renal failur renal failur w mcc hepat coma major acut liver disord hepat coma major acut liver disord disord liver except malig cirr alc hepa w mcc circulatori system diagnos circulatori system diagnos circulatori system diagnos w mcc cardiac arrhythmia conduct disord cardiac arrhythmia conduct disord cardiac arrhythmia conduct disord w mcc cardiac catheter circ disord exc ischem heart diseas cardiac catheter circ disord exc ischem heart diseas circulatori disord except ami w card cath mcc pneumonia pneumonia respiratori system diagnosi w ventil support hour pulmonari edema respiratori failur pulmonari edema respiratori failur pulmonari edema respiratori failur percutan cardiovascular procedur ami percutan cardiovascular procedur ami perc cardiovasc proc w stent mcc hepat coma major acut liver disord hepat coma major acut liver disord disord liver except malig cirr alc hepa w mcc respiratori system diagnosi ventil support hour respiratori system diagnosi ventil support hour respiratori system diagnosi w ventil support hour lymphoma leukemia lymphoma leukemia lymphoma leukemia w mcc cva precerebr occulus infarct cva precerebr occulus infarct intracrani hemorrhag cerebr infarct w mcc disord gallbladd biliari tract disord gallbladd biliari tract disord biliari tract w mcc trach w mv hr pdx exc face mouth neck maj tracheostomi w long term mechan ventil extens procedur tracheostomi w long term mechan ventil extens procedur pneumonia pneumonia simpl pneumonia pleurisi w mcc septicemia dissemin infect septicemia dissemin infect septicemia sever sepsi mv hour w mcc infecti parasit diseas includ hiv w procedur infecti parasit diseas includ hiv w procedur infecti parasit diseas w procedur w mcc malfunct reaction complic genitourinari devic proc malfunct reaction complic genitourinari devic proc kidney urinari tract diagnos w mcc septicemia dissemin infect septicemia dissemin infect septicemia sever sepsi mv hour w mcc septicemia dissemin infect septicemia dissemin infect septicemia sever sepsi mv hour w mcc septicemia dissemin infect septicemia dissemin infect septicemia sever sepsi mv hour w mcc septicemia dissemin infect septicemia dissemin infect septicemia sever sepsi mv hour w mcc malfunct reaction complic devic procedur malfunct reaction complic devic procedur digest system diagnos w cc septicemia sever sepsi mv hour w mcc septicemia dissemin infect septicemia dissemin infect septicemia dissemin infect septicemia dissemin infect septicemia sever sepsi mv hour w mcc']"
      ]
     },
     "execution_count": 21,
     "metadata": {},
     "output_type": "execute_result"
    }
   ],
   "source": [
    "# Ön işlenmiş token listelerini tekrar metne çeviriyoruz\n",
    "lemmatized_texts = [' '.join(tokens) for tokens in tokenized_corpus_lemmatized]\n",
    "\n",
    "lemmatized_texts[:3]"
   ]
  },
  {
   "cell_type": "code",
   "execution_count": 23,
   "id": "187225d3-65f5-4de1-a0e6-4cbdfbfcb8c1",
   "metadata": {},
   "outputs": [
    {
     "name": "stdout",
     "output_type": "stream",
     "text": [
      "       acut  aftercar       age     agent       alc   alcohol      aliv  \\\n",
      "0  0.090233  0.007519  0.022558  0.007519  0.015039  0.022558  0.007519   \n",
      "\n",
      "        ami  arrhythmia      back  ...  tracheostomi     tract    trauma  \\\n",
      "0  0.037597    0.022558  0.022558  ...      0.045117  0.112792  0.075194   \n",
      "\n",
      "    traumat     unrel      uret   urinari  vascular    ventil     wound  \n",
      "0  0.015039  0.007519  0.007519  0.067675  0.007519  0.150389  0.015039  \n",
      "\n",
      "[1 rows x 165 columns]\n"
     ]
    }
   ],
   "source": [
    "# TF-IDF vektörizerı başlatıyoruz\n",
    "vectorizer = TfidfVectorizer()\n",
    "\n",
    "# TF-IDF matrisini oluşturuyoruz\n",
    "#terim frekansları, belge frekanslarıni hesplar\n",
    "#TF-IDF vektörlerine dönüştürür\n",
    "tfidf_matrix = vectorizer.fit_transform(lemmatized_texts)\n",
    "\n",
    "## Kelimeleri alalım\n",
    "#F-IDF vektörleştirme işleminde kullanılan tüm kelimelerin essiz bir listesini döndürur\n",
    "feature_names = vectorizer.get_feature_names_out()\n",
    "\n",
    "# TF-IDF matrisini pandas DataFrame'e çevir-gorunurluk acisindan- calismasi kolay\n",
    "tfidf_df = pd.DataFrame(tfidf_matrix.toarray(), columns=feature_names)\n",
    "\n",
    "# İlk birkaç satırı gösterelim-ilk 5 cümle\n",
    "print(tfidf_df.head())\n",
    "\n",
    "#Her satır bir cümleyi temsil eder\n",
    "#Her sütun bir kelimeyi temsil eder\n",
    "#Hücreler ise o kelimenin o cümledeki TF-IDF skorudur - her cumle icin degisir-bakiniz:slaytlar"
   ]
  },
  {
   "cell_type": "code",
   "execution_count": 25,
   "id": "f665a38b-262a-4d9d-ae80-b224aca0a19e",
   "metadata": {},
   "outputs": [],
   "source": [
    "tfidf_df.to_csv('tfidf_stemmed.csv', index=False)"
   ]
  },
  {
   "cell_type": "code",
   "execution_count": null,
   "id": "7047bdc7-e045-401b-940f-629d17360f9d",
   "metadata": {},
   "outputs": [],
   "source": []
  }
 ],
 "metadata": {
  "kernelspec": {
   "display_name": "Python [conda env:base] *",
   "language": "python",
   "name": "conda-base-py"
  },
  "language_info": {
   "codemirror_mode": {
    "name": "ipython",
    "version": 3
   },
   "file_extension": ".py",
   "mimetype": "text/x-python",
   "name": "python",
   "nbconvert_exporter": "python",
   "pygments_lexer": "ipython3",
   "version": "3.12.7"
  }
 },
 "nbformat": 4,
 "nbformat_minor": 5
}
